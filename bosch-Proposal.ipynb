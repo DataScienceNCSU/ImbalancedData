{
 "cells": [
  {
   "cell_type": "markdown",
   "metadata": {
    "deletable": true,
    "editable": true
   },
   "source": [
    "### Binay Classification\n",
    "[bosch](https://www.kaggle.com/c/bosch-production-line-performance/data)\n",
    "\n",
    "In addition to being one of the largest datasets (in terms of number of features) ever hosted on Kaggle,\n",
    "the ground truth for this competition is highly imbalanced. Together, these two attributes are expected \n",
    "to make this a challenging problem."
   ]
  },
  {
   "cell_type": "code",
   "execution_count": 1,
   "metadata": {
    "collapsed": false,
    "deletable": true,
    "editable": true
   },
   "outputs": [
    {
     "name": "stderr",
     "output_type": "stream",
     "text": [
      "/Users/lidong/anaconda/lib/python3.5/site-packages/sklearn/cross_validation.py:44: DeprecationWarning: This module was deprecated in version 0.18 in favor of the model_selection module into which all the refactored classes and functions are moved. Also note that the interface of the new CV iterators are different from that of this module. This module will be removed in 0.20.\n",
      "  \"This module will be removed in 0.20.\", DeprecationWarning)\n"
     ]
    }
   ],
   "source": [
    "import pandas as pd\n",
    "import numpy as np\n",
    "import xgboost as xgb"
   ]
  },
  {
   "cell_type": "markdown",
   "metadata": {
    "deletable": true,
    "editable": true
   },
   "source": [
    "## Useful links in Kaggle"
   ]
  },
  {
   "cell_type": "markdown",
   "metadata": {
    "deletable": true,
    "editable": true
   },
   "source": [
    "### [Production map](https://www.kaggle.com/c/bosch-production-line-performance/forums/t/23042/production-map)\n",
    "\n",
    "### [Expeditive exploration+models on data](https://www.kaggle.com/c/bosch-production-line-performance/forums/t/22909/expeditive-exploration-models-on-data)\n",
    "\n",
    "### [Visulization of data exploration](https://www.kaggle.com/dollardollar/bosch-production-line-performance/eda-of-important-features/comments)\n",
    "\n",
    "### [H20](https://www.kaggle.com/c/bosch-production-line-performance/forums/t/23146/xgboost-simple-starter-auc-0-712)\n",
    "\n",
    "### [DataSize](https://www.kaggle.com/c/bosch-production-line-performance/forums/t/22908/datasets-size-uncompressed-14-3gb)\n",
    "\n",
    "### [Turn categorical into numeric](https://www.kaggle.com/c/bosch-production-line-performance/forums/t/23290/turn-categorical-into-numeric)\n",
    "\n",
    "## [Magic feature](https://www.kaggle.com/c/bosch-production-line-performance/forums/t/24065/the-magical-feature-from-lb-0-3-to-0-4/137761#post137761)"
   ]
  },
  {
   "cell_type": "code",
   "execution_count": null,
   "metadata": {
    "collapsed": true,
    "deletable": true,
    "editable": true
   },
   "outputs": [],
   "source": [
    "# ratio between positive samples and negative samples\n",
    "ratio=6879/1176868"
   ]
  },
  {
   "cell_type": "code",
   "execution_count": null,
   "metadata": {
    "collapsed": true,
    "deletable": true,
    "editable": true
   },
   "outputs": [],
   "source": [
    "%matplotlib inline\n",
    "import matplotlib.pyplot as plt\n",
    "import numpy as np\n",
    "import pandas as pd\n",
    "import seaborn as sns\n",
    "\n",
    "\n",
    "feature_names = ['L3_S38_F3960', 'L3_S33_F3865', 'L3_S38_F3956', 'L3_S33_F3857',\n",
    "       'L3_S29_F3321', 'L1_S24_F1846', 'L3_S32_F3850', 'L3_S29_F3354',\n",
    "       'L3_S29_F3324', 'L3_S35_F3889', 'L0_S1_F28', 'L1_S24_F1844',\n",
    "       'L3_S29_F3376', 'L0_S0_F22', 'L3_S33_F3859', 'L3_S38_F3952', \n",
    "       'L3_S30_F3754', 'L2_S26_F3113', 'L3_S30_F3759', 'L0_S5_F114']"
   ]
  },
  {
   "cell_type": "code",
   "execution_count": null,
   "metadata": {
    "collapsed": false,
    "deletable": true,
    "editable": true
   },
   "outputs": [],
   "source": [
    "numeric_cols = pd.read_csv(\"bosch/train_numeric.csv\", nrows = 1).columns.values\n",
    "imp_idxs = [np.argwhere(feature_name == numeric_cols)[0][0] for feature_name in feature_names]\n",
    "train = pd.read_csv(\"bosch/train_numeric.csv\", \n",
    "                index_col = 0, header = 0, usecols = [0, len(numeric_cols) - 1] + imp_idxs)\n",
    "train = train[feature_names + ['Response']]"
   ]
  },
  {
   "cell_type": "code",
   "execution_count": null,
   "metadata": {
    "collapsed": true,
    "deletable": true,
    "editable": true
   },
   "outputs": [],
   "source": [
    "X_neg, X_pos = train[train['Response'] == 0].iloc[:, :-1], train[train['Response']==1].iloc[:, :-1]"
   ]
  },
  {
   "cell_type": "code",
   "execution_count": null,
   "metadata": {
    "collapsed": true,
    "deletable": true,
    "editable": true
   },
   "outputs": [],
   "source": [
    "BATCH_SIZE = 5\n",
    "train_batch =[pd.melt(train[train.columns[batch: batch + BATCH_SIZE].append(np.array(['Response']))], \n",
    "                      id_vars = 'Response', value_vars = feature_names[batch: batch + BATCH_SIZE])\n",
    "              for batch in list(range(0, train.shape[1] - 1, BATCH_SIZE))]"
   ]
  },
  {
   "cell_type": "code",
   "execution_count": null,
   "metadata": {
    "collapsed": false,
    "deletable": true,
    "editable": true
   },
   "outputs": [],
   "source": [
    "FIGSIZE = (12,16)\n",
    "_, axs = plt.subplots(len(train_batch), figsize = FIGSIZE)\n",
    "plt.suptitle('Univariate distributions')\n",
    "for data, ax in zip(train_batch, axs):\n",
    "    sns.violinplot(x = 'variable',  y = 'value', hue = 'Response', data = data, ax = ax, split =True)"
   ]
  },
  {
   "cell_type": "code",
   "execution_count": null,
   "metadata": {
    "collapsed": false,
    "deletable": true,
    "editable": true
   },
   "outputs": [],
   "source": [
    "non_missing = pd.DataFrame(pd.concat([(X_neg.count()/X_neg.shape[0]).to_frame('negative samples'),\n",
    "                                      (X_pos.count()/X_pos.shape[0]).to_frame('positive samples'),  \n",
    "                                      ], \n",
    "                       axis = 1))\n",
    "non_missing_sort = non_missing.sort_values(['negative samples'])\n",
    "non_missing_sort.plot.barh(title = 'Proportion of non-missing values', figsize = FIGSIZE)\n",
    "plt.gca().invert_yaxis()"
   ]
  },
  {
   "cell_type": "code",
   "execution_count": null,
   "metadata": {
    "collapsed": false,
    "deletable": true,
    "editable": true
   },
   "outputs": [],
   "source": [
    "FIGSIZE = (13,4)\n",
    "_, (ax1, ax2) = plt.subplots(1,2, figsize = FIGSIZE)\n",
    "MIN_PERIODS = 100\n",
    "\n",
    "triang_mask = np.zeros((X_pos.shape[1], X_pos.shape[1]))\n",
    "triang_mask[np.triu_indices_from(triang_mask)] = True\n",
    "\n",
    "ax1.set_title('Negative Class')\n",
    "sns.heatmap(X_neg.corr(min_periods = MIN_PERIODS), mask = triang_mask, square=True,  ax = ax1)\n",
    "\n",
    "ax2.set_title('Positive Class')\n",
    "sns.heatmap(X_pos.corr(min_periods = MIN_PERIODS), mask = triang_mask, square=True,  ax = ax2)\n",
    "\n"
   ]
  },
  {
   "cell_type": "code",
   "execution_count": null,
   "metadata": {
    "collapsed": false,
    "deletable": true,
    "editable": true
   },
   "outputs": [],
   "source": [
    "sns.heatmap(X_pos.corr(min_periods = MIN_PERIODS) -X_neg.corr(min_periods = MIN_PERIODS), \n",
    "             mask = triang_mask, square=True)\n"
   ]
  },
  {
   "cell_type": "code",
   "execution_count": null,
   "metadata": {
    "collapsed": false,
    "deletable": true,
    "editable": true
   },
   "outputs": [],
   "source": [
    "nan_pos, nan_neg = np.isnan(X_pos), np.isnan(X_neg)\n",
    "\n",
    "triang_mask = np.zeros((X_pos.shape[1], X_pos.shape[1]))\n",
    "triang_mask[np.triu_indices_from(triang_mask)] = True\n",
    "\n",
    "FIGSIZE = (13,4)\n",
    "_, (ax1, ax2) = plt.subplots(1,2, figsize = FIGSIZE)\n",
    "MIN_PERIODS = 100\n",
    "\n",
    "ax1.set_title('Negative Class')\n",
    "sns.heatmap(nan_neg.corr(),   square=True, mask = triang_mask, ax = ax1)\n",
    "\n",
    "ax2.set_title('Positive Class')\n",
    "sns.heatmap(nan_pos.corr(), square=True, mask = triang_mask,  ax = ax2)"
   ]
  },
  {
   "cell_type": "code",
   "execution_count": null,
   "metadata": {
    "collapsed": false,
    "deletable": true,
    "editable": true
   },
   "outputs": [],
   "source": [
    "sns.heatmap(nan_neg.corr() - nan_pos.corr(), mask = triang_mask, square=True)"
   ]
  },
  {
   "cell_type": "markdown",
   "metadata": {
    "deletable": true,
    "editable": true
   },
   "source": [
    "## Train all numeric features"
   ]
  },
  {
   "cell_type": "code",
   "execution_count": 2,
   "metadata": {
    "collapsed": false,
    "deletable": true,
    "editable": true
   },
   "outputs": [],
   "source": [
    "train = pd.read_csv(\"/Users/lidong/Downloads/bosch/train_numeric.csv\")"
   ]
  },
  {
   "cell_type": "code",
   "execution_count": 3,
   "metadata": {
    "collapsed": false,
    "deletable": true,
    "editable": true
   },
   "outputs": [
    {
     "data": {
      "text/plain": [
       "(1183747, 970)"
      ]
     },
     "execution_count": 3,
     "metadata": {},
     "output_type": "execute_result"
    }
   ],
   "source": [
    "train.shape"
   ]
  },
  {
   "cell_type": "code",
   "execution_count": 6,
   "metadata": {
    "collapsed": false,
    "deletable": true,
    "editable": true
   },
   "outputs": [
    {
     "data": {
      "text/plain": [
       "count    59955.000000\n",
       "mean        -0.000168\n",
       "std          0.103590\n",
       "min         -0.565000\n",
       "25%         -0.067500\n",
       "50%          0.001000\n",
       "75%          0.072000\n",
       "max          0.371000\n",
       "Name: L3_S47_F4163, dtype: float64"
      ]
     },
     "execution_count": 6,
     "metadata": {},
     "output_type": "execute_result"
    }
   ],
   "source": [
    "train['L3_S47_F4163'].describe()"
   ]
  },
  {
   "cell_type": "code",
   "execution_count": null,
   "metadata": {
    "collapsed": true,
    "deletable": true,
    "editable": true
   },
   "outputs": [],
   "source": [
    "train_test = pd.read_csv(\"/Users/lidong/Downloads/bosch/train_test.csv\")"
   ]
  },
  {
   "cell_type": "code",
   "execution_count": null,
   "metadata": {
    "collapsed": false,
    "deletable": true,
    "editable": true
   },
   "outputs": [],
   "source": [
    "train_test.shape"
   ]
  },
  {
   "cell_type": "code",
   "execution_count": null,
   "metadata": {
    "collapsed": true,
    "deletable": true,
    "editable": true
   },
   "outputs": [],
   "source": [
    "trainp = pd.merge(train, train_test, on='Id')"
   ]
  },
  {
   "cell_type": "code",
   "execution_count": null,
   "metadata": {
    "collapsed": false,
    "deletable": true,
    "editable": true
   },
   "outputs": [],
   "source": [
    "trainp.shape"
   ]
  },
  {
   "cell_type": "code",
   "execution_count": null,
   "metadata": {
    "collapsed": false,
    "deletable": true,
    "editable": true
   },
   "outputs": [],
   "source": [
    "trainp.head()"
   ]
  },
  {
   "cell_type": "code",
   "execution_count": null,
   "metadata": {
    "collapsed": false,
    "deletable": true,
    "editable": true
   },
   "outputs": [],
   "source": [
    "del train\n",
    "del train_test\n",
    "import gc\n",
    "gc.collect()"
   ]
  },
  {
   "cell_type": "markdown",
   "metadata": {
    "deletable": true,
    "editable": true
   },
   "source": [
    "### Train"
   ]
  },
  {
   "cell_type": "code",
   "execution_count": null,
   "metadata": {
    "collapsed": false,
    "deletable": true,
    "editable": true
   },
   "outputs": [],
   "source": [
    "import xgboost as xgb\n",
    "Y=trainp['Response_x']\n",
    "listp=[x for x in trainp.columns if x not in [\"Response_x\",\"Response_y\"]]\n",
    "len(listp)\n",
    "X=trainp[listp]\n",
    "\n",
    "import time\n",
    "startt = time.time()\n",
    "gbm = xgb.XGBClassifier(max_depth=2, n_estimators=2, learning_rate=0.5).fit(X, Y)\n",
    "endt = time.time()\n",
    "print((endt-startt)/60)\n",
    "\n"
   ]
  },
  {
   "cell_type": "code",
   "execution_count": null,
   "metadata": {
    "collapsed": true,
    "deletable": true,
    "editable": true
   },
   "outputs": [],
   "source": [
    "del trainp\n",
    "del Y\n",
    "del X"
   ]
  },
  {
   "cell_type": "code",
   "execution_count": null,
   "metadata": {
    "collapsed": false,
    "deletable": true,
    "editable": true
   },
   "outputs": [],
   "source": [
    "import gc\n",
    "gc.collect()"
   ]
  },
  {
   "cell_type": "code",
   "execution_count": null,
   "metadata": {
    "collapsed": true,
    "deletable": true,
    "editable": true
   },
   "outputs": [],
   "source": [
    "test = pd.read_csv(\"/Users/lidong/Downloads/bosch/test_numeric.csv\")"
   ]
  },
  {
   "cell_type": "code",
   "execution_count": null,
   "metadata": {
    "collapsed": true,
    "deletable": true,
    "editable": true
   },
   "outputs": [],
   "source": [
    "testX = test[listp]"
   ]
  },
  {
   "cell_type": "code",
   "execution_count": null,
   "metadata": {
    "collapsed": false,
    "deletable": true,
    "editable": true
   },
   "outputs": [],
   "source": [
    "import time\n",
    "import math\n",
    "startt = time.time()\n",
    "predictions = gbm.predict(testX)\n",
    "endt = time.time()\n",
    "print((endt-startt)/60)"
   ]
  },
  {
   "cell_type": "code",
   "execution_count": null,
   "metadata": {
    "collapsed": false,
    "deletable": true,
    "editable": true
   },
   "outputs": [],
   "source": [
    "result = pd.DataFrame({'Id':test['Id'],'Response':predictions})"
   ]
  },
  {
   "cell_type": "code",
   "execution_count": null,
   "metadata": {
    "collapsed": false,
    "deletable": true,
    "editable": true
   },
   "outputs": [],
   "source": [
    "result.to_csv('submitResponse.csv',index=False)"
   ]
  },
  {
   "cell_type": "code",
   "execution_count": null,
   "metadata": {
    "collapsed": true,
    "deletable": true,
    "editable": true
   },
   "outputs": [],
   "source": [
    "resultp = pd.read_csv('submitResponse.csv')"
   ]
  },
  {
   "cell_type": "code",
   "execution_count": null,
   "metadata": {
    "collapsed": false,
    "deletable": true,
    "editable": true
   },
   "outputs": [],
   "source": [
    "resultp.head()"
   ]
  },
  {
   "cell_type": "code",
   "execution_count": null,
   "metadata": {
    "collapsed": true,
    "deletable": true,
    "editable": true
   },
   "outputs": [],
   "source": [
    "## max_depth=3, n_estimators=30, learning_rate=0.05, MCC:  2.3118949470266887, time: 13.2min\n",
    "## max_depth=5, n_estimators=30, learning_rate=0.05, MCC:  2.6920021339353273, time: 19.7min\n",
    "## max_depth=6, n_estimators=30, learning_rate=0.05, MCC:  2.84,               time: 23.3min\n",
    "## max_depth=7, n_estimators=30, learning_rate=0.05, MCC:  3.13                time: 27.2min"
   ]
  },
  {
   "cell_type": "markdown",
   "metadata": {
    "deletable": true,
    "editable": true
   },
   "source": [
    "## Feature Importance"
   ]
  },
  {
   "cell_type": "code",
   "execution_count": null,
   "metadata": {
    "collapsed": false,
    "deletable": true,
    "editable": true
   },
   "outputs": [],
   "source": [
    "xgb.plot_importance(gbm)"
   ]
  },
  {
   "cell_type": "markdown",
   "metadata": {
    "deletable": true,
    "editable": true
   },
   "source": [
    "### Predict"
   ]
  },
  {
   "cell_type": "code",
   "execution_count": null,
   "metadata": {
    "collapsed": false,
    "deletable": true,
    "editable": true
   },
   "outputs": [],
   "source": [
    "import time\n",
    "import math\n",
    "startt = time.time()\n",
    "predictions = gbm.predict(X)\n",
    "sumn=0\n",
    "TP=0\n",
    "TN=0\n",
    "FP=0\n",
    "FN=0\n",
    "for i in range(len(predictions)):\n",
    "    if predictions[i]==0:\n",
    "        if predictions[i]!=Y.iloc[i]:\n",
    "            FN = FN+1\n",
    "        else:\n",
    "            TN = TN+1\n",
    "    else:\n",
    "        if predictions[i]!=Y.iloc[i]:\n",
    "            FP = FP+1\n",
    "        else:\n",
    "            TP = TP+1\n",
    "\n",
    "endt = time.time()\n",
    "print((endt-startt)/60)\n",
    "sumup=TP*TN-FP*FN\n",
    "sumdown=(TP+FP)*(TP+FN)*(FN+FP)*(TN+FN)*1.0\n",
    "print(\"MCC: \",sumup/math.sqrt(sumdown))"
   ]
  },
  {
   "cell_type": "markdown",
   "metadata": {
    "deletable": true,
    "editable": true
   },
   "source": [
    "## Train all categorical feature"
   ]
  },
  {
   "cell_type": "code",
   "execution_count": null,
   "metadata": {
    "collapsed": true,
    "deletable": true,
    "editable": true
   },
   "outputs": [],
   "source": [
    "pd.read_csv?"
   ]
  },
  {
   "cell_type": "code",
   "execution_count": null,
   "metadata": {
    "collapsed": true,
    "deletable": true,
    "editable": true
   },
   "outputs": [],
   "source": [
    "pd.read_csv?"
   ]
  },
  {
   "cell_type": "code",
   "execution_count": null,
   "metadata": {
    "collapsed": false,
    "deletable": true,
    "editable": true
   },
   "outputs": [],
   "source": [
    "train = pd.read_csv(\"bosch/train_categorical.csv\",dtype=float)"
   ]
  },
  {
   "cell_type": "code",
   "execution_count": null,
   "metadata": {
    "collapsed": false,
    "deletable": true,
    "editable": true
   },
   "outputs": [],
   "source": [
    "train.head()"
   ]
  },
  {
   "cell_type": "code",
   "execution_count": null,
   "metadata": {
    "collapsed": true,
    "deletable": true,
    "editable": true
   },
   "outputs": [],
   "source": [
    "train = train.fillna(0)"
   ]
  },
  {
   "cell_type": "code",
   "execution_count": null,
   "metadata": {
    "collapsed": true,
    "deletable": true,
    "editable": true
   },
   "outputs": [],
   "source": [
    "pd.read_csv?"
   ]
  },
  {
   "cell_type": "code",
   "execution_count": null,
   "metadata": {
    "collapsed": false,
    "deletable": true,
    "editable": true
   },
   "outputs": [],
   "source": [
    "train['Id'] = train['Id'].astype(int)"
   ]
  },
  {
   "cell_type": "code",
   "execution_count": null,
   "metadata": {
    "collapsed": true,
    "deletable": true,
    "editable": true
   },
   "outputs": [],
   "source": [
    "trainl = pd.read_csv(\"bosch/train_numeric.csv\",usecols=['Response','Id'])"
   ]
  },
  {
   "cell_type": "code",
   "execution_count": null,
   "metadata": {
    "collapsed": false,
    "deletable": true,
    "editable": true
   },
   "outputs": [],
   "source": [
    "Y=trainl['Response']"
   ]
  },
  {
   "cell_type": "code",
   "execution_count": null,
   "metadata": {
    "collapsed": false,
    "deletable": true,
    "editable": true
   },
   "outputs": [],
   "source": [
    "train.shape"
   ]
  },
  {
   "cell_type": "code",
   "execution_count": null,
   "metadata": {
    "collapsed": false,
    "deletable": true,
    "editable": true
   },
   "outputs": [],
   "source": [
    "sum(Y[500:600])"
   ]
  },
  {
   "cell_type": "code",
   "execution_count": null,
   "metadata": {
    "collapsed": true,
    "deletable": true,
    "editable": true
   },
   "outputs": [],
   "source": [
    "from sklearn import tree\n",
    "from sklearn import linear_model"
   ]
  },
  {
   "cell_type": "code",
   "execution_count": null,
   "metadata": {
    "collapsed": false,
    "deletable": true,
    "editable": true
   },
   "outputs": [],
   "source": [
    "tree.DecisionTreeClassifier?"
   ]
  },
  {
   "cell_type": "code",
   "execution_count": null,
   "metadata": {
    "collapsed": false,
    "deletable": true,
    "editable": true
   },
   "outputs": [],
   "source": [
    "listp=[x for x in train.columns if x not in [\"Response\",\"Id\"]]\n",
    "len(listp)\n",
    "#train[listp]\n",
    "\n",
    "import time\n",
    "startt = time.time()\n",
    "# clf = tree.DecisionTreeClassifier(max_depth=3)\n",
    "# clf = clf.fit(train[listp], Y)\n",
    "\n",
    "clf = linear_model.SGDClassifier()\n",
    "clf.fit(train[listp].iloc[500:600], Y[500:600])\n",
    "\n",
    "endt = time.time()\n",
    "print((endt-startt)/60)"
   ]
  },
  {
   "cell_type": "code",
   "execution_count": null,
   "metadata": {
    "collapsed": false,
    "deletable": true,
    "editable": true
   },
   "outputs": [],
   "source": [
    "import xgboost as xgb\n",
    "import time\n",
    "startt = time.time()\n",
    "gbm = xgb.XGBClassifier(max_depth=3, n_estimators=3, learning_rate=0.1).fit(train[listp].iloc[500:600], Y[500:600])\n",
    "endt = time.time()\n",
    "print((endt-startt)/60)"
   ]
  },
  {
   "cell_type": "markdown",
   "metadata": {
    "deletable": true,
    "editable": true
   },
   "source": [
    "## Get positive samples"
   ]
  },
  {
   "cell_type": "code",
   "execution_count": null,
   "metadata": {
    "collapsed": true,
    "deletable": true,
    "editable": true
   },
   "outputs": [],
   "source": [
    "numericnum=970\n",
    "categorical=2140\n",
    "date=1156"
   ]
  },
  {
   "cell_type": "code",
   "execution_count": null,
   "metadata": {
    "collapsed": false,
    "deletable": true,
    "editable": true
   },
   "outputs": [],
   "source": [
    "import warnings\n",
    "warnings.filterwarnings('ignore')\n",
    "\n",
    "def get_positive(chunksize):\n",
    "    reader_numeric = pd.read_csv('bosch/train_numeric.csv', chunksize=chunksize)\n",
    "    reader_categorical = pd.read_csv('bosch/train_categorical.csv', chunksize=chunksize)\n",
    "    reader_date = pd.read_csv('bosch/train_date.csv', chunksize=chunksize)\n",
    "    reader = zip(reader_numeric, reader_categorical, reader_date)\n",
    "    first = True\n",
    "    for numeric, categorical, date in reader:\n",
    "        categorical.drop('Id', axis=1, inplace=True)\n",
    "        date.drop('Id', axis=1, inplace=True)\n",
    "        data = pd.concat([numeric, categorical, date], axis=1)\n",
    "        positive_data = data[data.Response == 1]\n",
    "        if first:\n",
    "            positive = positive_data.copy()\n",
    "            first = False\n",
    "        else:\n",
    "            positive = pd.concat([positive, positive_data])\n",
    "        print(positive_data.shape, positive.shape)\n",
    "    return positive\n",
    "\n",
    "positive = get_positive(10000)"
   ]
  },
  {
   "cell_type": "code",
   "execution_count": null,
   "metadata": {
    "collapsed": true,
    "deletable": true,
    "editable": true
   },
   "outputs": [],
   "source": []
  }
 ],
 "metadata": {
  "kernelspec": {
   "display_name": "Python 3",
   "language": "python",
   "name": "python3"
  },
  "language_info": {
   "codemirror_mode": {
    "name": "ipython",
    "version": 3
   },
   "file_extension": ".py",
   "mimetype": "text/x-python",
   "name": "python",
   "nbconvert_exporter": "python",
   "pygments_lexer": "ipython3",
   "version": "3.5.2"
  }
 },
 "nbformat": 4,
 "nbformat_minor": 1
}
