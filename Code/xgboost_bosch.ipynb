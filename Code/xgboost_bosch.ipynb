{
 "cells": [
  {
   "cell_type": "code",
   "execution_count": 1,
   "metadata": {
    "collapsed": true
   },
   "outputs": [],
   "source": [
    "import numpy as np\n",
    "import pandas as pd\n",
    "import xgboost as xgb\n",
    "\n",
    "from sklearn.preprocessing import LabelEncoder\n",
    "from sklearn.grid_search import GridSearchCV\n",
    "from sklearn.cross_validation import StratifiedKFold\n",
    "from sklearn.cross_validation import cross_val_score\n",
    "from sklearn.metrics import auc"
   ]
  },
  {
   "cell_type": "code",
   "execution_count": 2,
   "metadata": {
    "collapsed": false
   },
   "outputs": [],
   "source": [
    "train_test = pd.read_csv(\"../bosch/train_test.csv\")"
   ]
  },
  {
   "cell_type": "code",
   "execution_count": 3,
   "metadata": {
    "collapsed": false
   },
   "outputs": [
    {
     "data": {
      "text/html": [
       "<div>\n",
       "<table border=\"1\" class=\"dataframe\">\n",
       "  <thead>\n",
       "    <tr style=\"text-align: right;\">\n",
       "      <th></th>\n",
       "      <th>Unnamed: 0</th>\n",
       "      <th>index</th>\n",
       "      <th>Id</th>\n",
       "      <th>Response</th>\n",
       "      <th>StartTime</th>\n",
       "      <th>0_¯\\_(ツ)_/¯_1</th>\n",
       "      <th>0_¯\\_(ツ)_/¯_2</th>\n",
       "      <th>0_¯\\_(ツ)_/¯_3</th>\n",
       "      <th>0_¯\\_(ツ)_/¯_4</th>\n",
       "    </tr>\n",
       "  </thead>\n",
       "  <tbody>\n",
       "    <tr>\n",
       "      <th>0</th>\n",
       "      <td>2083747</td>\n",
       "      <td>2083747</td>\n",
       "      <td>1800056</td>\n",
       "      <td>NaN</td>\n",
       "      <td>-1</td>\n",
       "      <td>2</td>\n",
       "      <td>-1</td>\n",
       "      <td>9999999</td>\n",
       "      <td>-1</td>\n",
       "    </tr>\n",
       "    <tr>\n",
       "      <th>1</th>\n",
       "      <td>2083748</td>\n",
       "      <td>2083748</td>\n",
       "      <td>1800057</td>\n",
       "      <td>NaN</td>\n",
       "      <td>-1</td>\n",
       "      <td>1</td>\n",
       "      <td>-2</td>\n",
       "      <td>1</td>\n",
       "      <td>-2</td>\n",
       "    </tr>\n",
       "    <tr>\n",
       "      <th>2</th>\n",
       "      <td>2083749</td>\n",
       "      <td>2083749</td>\n",
       "      <td>1800059</td>\n",
       "      <td>NaN</td>\n",
       "      <td>-1</td>\n",
       "      <td>2</td>\n",
       "      <td>-6</td>\n",
       "      <td>2</td>\n",
       "      <td>-6</td>\n",
       "    </tr>\n",
       "    <tr>\n",
       "      <th>3</th>\n",
       "      <td>2083750</td>\n",
       "      <td>2083750</td>\n",
       "      <td>1800065</td>\n",
       "      <td>NaN</td>\n",
       "      <td>-1</td>\n",
       "      <td>6</td>\n",
       "      <td>-1</td>\n",
       "      <td>6</td>\n",
       "      <td>-1</td>\n",
       "    </tr>\n",
       "    <tr>\n",
       "      <th>4</th>\n",
       "      <td>2083751</td>\n",
       "      <td>2083751</td>\n",
       "      <td>1800066</td>\n",
       "      <td>NaN</td>\n",
       "      <td>-1</td>\n",
       "      <td>1</td>\n",
       "      <td>-5</td>\n",
       "      <td>1</td>\n",
       "      <td>-5</td>\n",
       "    </tr>\n",
       "  </tbody>\n",
       "</table>\n",
       "</div>"
      ],
      "text/plain": [
       "   Unnamed: 0    index       Id  Response  StartTime  0_¯\\_(ツ)_/¯_1  \\\n",
       "0     2083747  2083747  1800056       NaN         -1              2   \n",
       "1     2083748  2083748  1800057       NaN         -1              1   \n",
       "2     2083749  2083749  1800059       NaN         -1              2   \n",
       "3     2083750  2083750  1800065       NaN         -1              6   \n",
       "4     2083751  2083751  1800066       NaN         -1              1   \n",
       "\n",
       "   0_¯\\_(ツ)_/¯_2  0_¯\\_(ツ)_/¯_3  0_¯\\_(ツ)_/¯_4  \n",
       "0             -1        9999999             -1  \n",
       "1             -2              1             -2  \n",
       "2             -6              2             -6  \n",
       "3             -1              6             -1  \n",
       "4             -5              1             -5  "
      ]
     },
     "execution_count": 3,
     "metadata": {},
     "output_type": "execute_result"
    }
   ],
   "source": [
    "train_test.head()"
   ]
  },
  {
   "cell_type": "code",
   "execution_count": 4,
   "metadata": {
    "collapsed": false
   },
   "outputs": [],
   "source": [
    "train = pd.read_csv(\"../bosch/train_numeric.csv\")"
   ]
  },
  {
   "cell_type": "code",
   "execution_count": 5,
   "metadata": {
    "collapsed": true
   },
   "outputs": [],
   "source": [
    "trainp = pd.merge(train, train_test, on='Id', how='left')"
   ]
  },
  {
   "cell_type": "code",
   "execution_count": 6,
   "metadata": {
    "collapsed": false
   },
   "outputs": [
    {
     "data": {
      "text/plain": [
       "30"
      ]
     },
     "execution_count": 6,
     "metadata": {},
     "output_type": "execute_result"
    }
   ],
   "source": [
    "del train\n",
    "import gc\n",
    "gc.collect()"
   ]
  },
  {
   "cell_type": "code",
   "execution_count": 8,
   "metadata": {
    "collapsed": true
   },
   "outputs": [],
   "source": [
    "import xgboost as xgb\n",
    "Y=trainp['Response_x']\n",
    "listp=[x for x in trainp.columns if x not in [\"Response_x\",\"Response_y\"]]\n",
    "len(listp)\n",
    "X=trainp[listp]"
   ]
  },
  {
   "cell_type": "code",
   "execution_count": 10,
   "metadata": {
    "collapsed": false
   },
   "outputs": [
    {
     "name": "stdout",
     "output_type": "stream",
     "text": [
      "34.5558894316\n"
     ]
    }
   ],
   "source": [
    "import time\n",
    "startt = time.time()\n",
    "gbm = xgb.XGBClassifier(max_depth=10, n_estimators=200, learning_rate=0.1).fit(X, Y)\n",
    "endt = time.time()\n",
    "print((endt-startt)/60)"
   ]
  },
  {
   "cell_type": "markdown",
   "metadata": {},
   "source": [
    "### grid search"
   ]
  },
  {
   "cell_type": "code",
   "execution_count": 9,
   "metadata": {
    "collapsed": false
   },
   "outputs": [
    {
     "data": {
      "text/plain": [
       "sklearn.cross_validation.StratifiedKFold(labels=[0 0 0 ..., 0 0 0], n_folds=3, shuffle=False, random_state=None)"
      ]
     },
     "execution_count": 9,
     "metadata": {},
     "output_type": "execute_result"
    }
   ],
   "source": [
    "gbm_params = {\n",
    "    'learning_rate': [0.05, 0.1],\n",
    "    'n_estimators': [3],\n",
    "    'max_depth': [2, 3],\n",
    "}\n",
    "cv = StratifiedKFold(Y)\n",
    "cv"
   ]
  },
  {
   "cell_type": "code",
   "execution_count": 11,
   "metadata": {
    "collapsed": false
   },
   "outputs": [
    {
     "name": "stdout",
     "output_type": "stream",
     "text": [
      "Fitting 3 folds for each of 4 candidates, totalling 12 fits\n",
      "[CV] n_estimators=3, learning_rate=0.05, max_depth=2 .................\n",
      "[CV] n_estimators=3, learning_rate=0.05, max_depth=2 .................\n",
      "[CV] n_estimators=3, learning_rate=0.05, max_depth=2 .................\n",
      "[CV]  n_estimators=3, learning_rate=0.05, max_depth=2, score=0.862758 -  55.1s\n"
     ]
    },
    {
     "name": "stderr",
     "output_type": "stream",
     "text": [
      "[Parallel(n_jobs=-1)]: Done   1 tasks      | elapsed:  1.4min\n"
     ]
    },
    {
     "name": "stdout",
     "output_type": "stream",
     "text": [
      "[CV] n_estimators=3, learning_rate=0.05, max_depth=3 .................\n",
      "[CV] n_estimators=3, learning_rate=0.05, max_depth=3 .................\n",
      "[CV]  n_estimators=3, learning_rate=0.05, max_depth=2, score=0.859008 - 1.1min\n",
      "[CV]  n_estimators=3, learning_rate=0.05, max_depth=2, score=0.303701 -  59.7s\n",
      "[CV] n_estimators=3, learning_rate=0.05, max_depth=3 .................\n",
      "[CV] n_estimators=3, learning_rate=0.1, max_depth=2 ..................\n",
      "[CV]  n_estimators=3, learning_rate=0.05, max_depth=3, score=0.862833 - 1.2min\n",
      "[CV] n_estimators=3, learning_rate=0.1, max_depth=2 ..................\n",
      "[CV]  n_estimators=3, learning_rate=0.05, max_depth=3, score=0.859664 - 1.3min\n",
      "[CV] n_estimators=3, learning_rate=0.1, max_depth=2 ..................\n",
      "[CV]  n_estimators=3, learning_rate=0.05, max_depth=3, score=0.398787 - 1.3min\n",
      "[CV] n_estimators=3, learning_rate=0.1, max_depth=3 ..................\n",
      "[CV]  n_estimators=3, learning_rate=0.1, max_depth=2, score=0.862693 - 1.2min\n",
      "[CV] n_estimators=3, learning_rate=0.1, max_depth=3 ..................\n",
      "[CV]  n_estimators=3, learning_rate=0.1, max_depth=2, score=0.858958 - 1.2min\n",
      "[CV]  n_estimators=3, learning_rate=0.1, max_depth=2, score=0.303698 - 1.1min\n",
      "[CV] n_estimators=3, learning_rate=0.1, max_depth=3 ..................\n",
      "[CV]  n_estimators=3, learning_rate=0.1, max_depth=3, score=0.869373 - 1.2min\n",
      "[CV]  n_estimators=3, learning_rate=0.1, max_depth=3, score=0.859853 - 1.1min\n",
      "[CV]  n_estimators=3, learning_rate=0.1, max_depth=3, score=0.399670 - 1.1min\n"
     ]
    },
    {
     "name": "stderr",
     "output_type": "stream",
     "text": [
      "[Parallel(n_jobs=-1)]: Done  12 out of  12 | elapsed:  5.5min finished\n"
     ]
    },
    {
     "data": {
      "text/plain": [
       "GridSearchCV(cv=sklearn.cross_validation.StratifiedKFold(labels=[0 0 ..., 0 0], n_folds=3, shuffle=False, random_state=None),\n",
       "       error_score='raise',\n",
       "       estimator=XGBClassifier(base_score=0.5, colsample_bylevel=1, colsample_bytree=1,\n",
       "       gamma=0, learning_rate=0.1, max_delta_step=0, max_depth=3,\n",
       "       min_child_weight=1, missing=None, n_estimators=100, nthread=-1,\n",
       "       objective='binary:logistic', reg_alpha=0, reg_lambda=1,\n",
       "       scale_pos_weight=1, seed=0, silent=True, subsample=1),\n",
       "       fit_params={}, iid=True, n_jobs=-1,\n",
       "       param_grid={'n_estimators': [3], 'learning_rate': [0.05, 0.1], 'max_depth': [2, 3]},\n",
       "       pre_dispatch='2*n_jobs', refit=True, scoring='roc_auc', verbose=10)"
      ]
     },
     "execution_count": 11,
     "metadata": {},
     "output_type": "execute_result"
    }
   ],
   "source": [
    "gbm = xgb.XGBClassifier()\n",
    "grid = GridSearchCV(gbm, gbm_params,scoring='roc_auc',cv=cv,verbose=10,n_jobs=-1)\n",
    "grid.fit(X, Y)"
   ]
  },
  {
   "cell_type": "code",
   "execution_count": 12,
   "metadata": {
    "collapsed": false
   },
   "outputs": [
    {
     "data": {
      "text/plain": [
       "{'learning_rate': 0.1, 'max_depth': 3, 'n_estimators': 3}"
      ]
     },
     "execution_count": 12,
     "metadata": {},
     "output_type": "execute_result"
    }
   ],
   "source": [
    "grid.best_params_"
   ]
  },
  {
   "cell_type": "code",
   "execution_count": null,
   "metadata": {
    "collapsed": true
   },
   "outputs": [],
   "source": [
    "testX = X\n",
    "predictions = grid.best_estimator_.predict(test_X)"
   ]
  },
  {
   "cell_type": "code",
   "execution_count": 11,
   "metadata": {
    "collapsed": false
   },
   "outputs": [
    {
     "data": {
      "text/plain": [
       "292"
      ]
     },
     "execution_count": 11,
     "metadata": {},
     "output_type": "execute_result"
    }
   ],
   "source": [
    "del trainp\n",
    "del Y\n",
    "del X\n",
    "import gc\n",
    "gc.collect()"
   ]
  },
  {
   "cell_type": "code",
   "execution_count": 14,
   "metadata": {
    "collapsed": false
   },
   "outputs": [],
   "source": [
    "test = pd.read_csv(\"../bosch/test_numeric.csv\")"
   ]
  },
  {
   "cell_type": "code",
   "execution_count": 17,
   "metadata": {
    "collapsed": false
   },
   "outputs": [],
   "source": [
    "testp = pd.merge(test, train_test, on='Id', how='left')"
   ]
  },
  {
   "cell_type": "code",
   "execution_count": 18,
   "metadata": {
    "collapsed": true
   },
   "outputs": [],
   "source": [
    "testX = testp[listp]"
   ]
  },
  {
   "cell_type": "code",
   "execution_count": 19,
   "metadata": {
    "collapsed": false
   },
   "outputs": [
    {
     "name": "stdout",
     "output_type": "stream",
     "text": [
      "0.964323286215\n"
     ]
    }
   ],
   "source": [
    "import time\n",
    "import math\n",
    "startt = time.time()\n",
    "predictions = gbm.predict(testX)\n",
    "endt = time.time()\n",
    "print((endt-startt)/60)"
   ]
  },
  {
   "cell_type": "code",
   "execution_count": 20,
   "metadata": {
    "collapsed": true
   },
   "outputs": [],
   "source": [
    "resultSubmission = pd.DataFrame({'Id':test['Id'],'Response':predictions})"
   ]
  },
  {
   "cell_type": "code",
   "execution_count": 21,
   "metadata": {
    "collapsed": true
   },
   "outputs": [],
   "source": [
    "resultSubmission.to_csv('submitResponse.csv',index=False)"
   ]
  },
  {
   "cell_type": "code",
   "execution_count": 22,
   "metadata": {
    "collapsed": false
   },
   "outputs": [
    {
     "data": {
      "text/plain": [
       "(1183748, 2)"
      ]
     },
     "execution_count": 22,
     "metadata": {},
     "output_type": "execute_result"
    }
   ],
   "source": [
    "resultSubmission.shape"
   ]
  },
  {
   "cell_type": "code",
   "execution_count": null,
   "metadata": {
    "collapsed": true
   },
   "outputs": [],
   "source": [
    "skf = cross_validation.StratifiedKFold(y, n_folds=2)"
   ]
  }
 ],
 "metadata": {
  "kernelspec": {
   "display_name": "Python 2",
   "language": "python",
   "name": "python2"
  },
  "language_info": {
   "codemirror_mode": {
    "name": "ipython",
    "version": 2
   },
   "file_extension": ".py",
   "mimetype": "text/x-python",
   "name": "python",
   "nbconvert_exporter": "python",
   "pygments_lexer": "ipython2",
   "version": "2.7.5"
  }
 },
 "nbformat": 4,
 "nbformat_minor": 0
}
