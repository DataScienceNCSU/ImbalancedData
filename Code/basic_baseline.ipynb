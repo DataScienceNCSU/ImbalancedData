{
 "cells": [
  {
   "cell_type": "code",
   "execution_count": 1,
   "metadata": {
    "collapsed": true
   },
   "outputs": [],
   "source": [
    "import numpy as np\n",
    "import pandas as pd\n",
    "import xgboost as xgb\n",
    "\n",
    "from sklearn.preprocessing import LabelEncoder\n",
    "from sklearn.grid_search import GridSearchCV\n",
    "from sklearn.cross_validation import StratifiedKFold\n",
    "from sklearn.cross_validation import cross_val_score\n",
    "from sklearn.metrics import auc\n",
    "from sklearn.metrics import matthews_corrcoef, make_scorer\n"
   ]
  },
  {
   "cell_type": "markdown",
   "metadata": {},
   "source": [
    "### Load Data"
   ]
  },
  {
   "cell_type": "code",
   "execution_count": 21,
   "metadata": {
    "collapsed": false
   },
   "outputs": [],
   "source": [
    "train_numeric_reduced=pd.read_csv('bosch_data/train_numeric_reduced.csv')"
   ]
  },
  {
   "cell_type": "code",
   "execution_count": 22,
   "metadata": {
    "collapsed": false,
    "scrolled": true
   },
   "outputs": [
    {
     "data": {
      "text/html": [
       "<div>\n",
       "<table border=\"1\" class=\"dataframe\">\n",
       "  <thead>\n",
       "    <tr style=\"text-align: right;\">\n",
       "      <th></th>\n",
       "      <th>Unnamed: 0</th>\n",
       "      <th>Id</th>\n",
       "      <th>L0_S0_F0</th>\n",
       "      <th>L0_S0_F2</th>\n",
       "      <th>L0_S0_F4</th>\n",
       "      <th>L0_S0_F6</th>\n",
       "      <th>L0_S0_F8</th>\n",
       "      <th>L0_S0_F10</th>\n",
       "      <th>L0_S0_F12</th>\n",
       "      <th>L0_S0_F14</th>\n",
       "      <th>...</th>\n",
       "      <th>L3_S50_F4245</th>\n",
       "      <th>L3_S50_F4247</th>\n",
       "      <th>L3_S50_F4249</th>\n",
       "      <th>L3_S50_F4251</th>\n",
       "      <th>L3_S50_F4253</th>\n",
       "      <th>L3_S51_F4256</th>\n",
       "      <th>L3_S51_F4258</th>\n",
       "      <th>L3_S51_F4260</th>\n",
       "      <th>L3_S51_F4262</th>\n",
       "      <th>Response</th>\n",
       "    </tr>\n",
       "  </thead>\n",
       "  <tbody>\n",
       "    <tr>\n",
       "      <th>0</th>\n",
       "      <td>388849</td>\n",
       "      <td>778109</td>\n",
       "      <td>0.062</td>\n",
       "      <td>-0.011</td>\n",
       "      <td>-0.179</td>\n",
       "      <td>-0.179</td>\n",
       "      <td>0.118</td>\n",
       "      <td>0.025</td>\n",
       "      <td>-0.015</td>\n",
       "      <td>-0.072</td>\n",
       "      <td>...</td>\n",
       "      <td>NaN</td>\n",
       "      <td>NaN</td>\n",
       "      <td>NaN</td>\n",
       "      <td>NaN</td>\n",
       "      <td>NaN</td>\n",
       "      <td>NaN</td>\n",
       "      <td>NaN</td>\n",
       "      <td>NaN</td>\n",
       "      <td>NaN</td>\n",
       "      <td>0</td>\n",
       "    </tr>\n",
       "    <tr>\n",
       "      <th>1</th>\n",
       "      <td>809765</td>\n",
       "      <td>1619607</td>\n",
       "      <td>NaN</td>\n",
       "      <td>NaN</td>\n",
       "      <td>NaN</td>\n",
       "      <td>NaN</td>\n",
       "      <td>NaN</td>\n",
       "      <td>NaN</td>\n",
       "      <td>NaN</td>\n",
       "      <td>NaN</td>\n",
       "      <td>...</td>\n",
       "      <td>NaN</td>\n",
       "      <td>NaN</td>\n",
       "      <td>NaN</td>\n",
       "      <td>NaN</td>\n",
       "      <td>NaN</td>\n",
       "      <td>NaN</td>\n",
       "      <td>NaN</td>\n",
       "      <td>NaN</td>\n",
       "      <td>NaN</td>\n",
       "      <td>0</td>\n",
       "    </tr>\n",
       "    <tr>\n",
       "      <th>2</th>\n",
       "      <td>548564</td>\n",
       "      <td>1097782</td>\n",
       "      <td>0.010</td>\n",
       "      <td>-0.011</td>\n",
       "      <td>-0.033</td>\n",
       "      <td>0.003</td>\n",
       "      <td>-0.056</td>\n",
       "      <td>0.070</td>\n",
       "      <td>0.000</td>\n",
       "      <td>0.008</td>\n",
       "      <td>...</td>\n",
       "      <td>NaN</td>\n",
       "      <td>NaN</td>\n",
       "      <td>NaN</td>\n",
       "      <td>NaN</td>\n",
       "      <td>NaN</td>\n",
       "      <td>NaN</td>\n",
       "      <td>NaN</td>\n",
       "      <td>NaN</td>\n",
       "      <td>NaN</td>\n",
       "      <td>0</td>\n",
       "    </tr>\n",
       "    <tr>\n",
       "      <th>3</th>\n",
       "      <td>173194</td>\n",
       "      <td>346239</td>\n",
       "      <td>-0.199</td>\n",
       "      <td>-0.190</td>\n",
       "      <td>0.294</td>\n",
       "      <td>0.294</td>\n",
       "      <td>-0.056</td>\n",
       "      <td>-0.203</td>\n",
       "      <td>0.052</td>\n",
       "      <td>0.288</td>\n",
       "      <td>...</td>\n",
       "      <td>NaN</td>\n",
       "      <td>NaN</td>\n",
       "      <td>NaN</td>\n",
       "      <td>NaN</td>\n",
       "      <td>NaN</td>\n",
       "      <td>NaN</td>\n",
       "      <td>NaN</td>\n",
       "      <td>NaN</td>\n",
       "      <td>NaN</td>\n",
       "      <td>0</td>\n",
       "    </tr>\n",
       "    <tr>\n",
       "      <th>4</th>\n",
       "      <td>209792</td>\n",
       "      <td>419392</td>\n",
       "      <td>-0.042</td>\n",
       "      <td>-0.034</td>\n",
       "      <td>0.348</td>\n",
       "      <td>0.330</td>\n",
       "      <td>0.074</td>\n",
       "      <td>0.025</td>\n",
       "      <td>0.000</td>\n",
       "      <td>-0.032</td>\n",
       "      <td>...</td>\n",
       "      <td>NaN</td>\n",
       "      <td>NaN</td>\n",
       "      <td>NaN</td>\n",
       "      <td>NaN</td>\n",
       "      <td>NaN</td>\n",
       "      <td>NaN</td>\n",
       "      <td>NaN</td>\n",
       "      <td>NaN</td>\n",
       "      <td>NaN</td>\n",
       "      <td>0</td>\n",
       "    </tr>\n",
       "  </tbody>\n",
       "</table>\n",
       "<p>5 rows × 971 columns</p>\n",
       "</div>"
      ],
      "text/plain": [
       "   Unnamed: 0       Id  L0_S0_F0  L0_S0_F2  L0_S0_F4  L0_S0_F6  L0_S0_F8  \\\n",
       "0      388849   778109     0.062    -0.011    -0.179    -0.179     0.118   \n",
       "1      809765  1619607       NaN       NaN       NaN       NaN       NaN   \n",
       "2      548564  1097782     0.010    -0.011    -0.033     0.003    -0.056   \n",
       "3      173194   346239    -0.199    -0.190     0.294     0.294    -0.056   \n",
       "4      209792   419392    -0.042    -0.034     0.348     0.330     0.074   \n",
       "\n",
       "   L0_S0_F10  L0_S0_F12  L0_S0_F14    ...     L3_S50_F4245  L3_S50_F4247  \\\n",
       "0      0.025     -0.015     -0.072    ...              NaN           NaN   \n",
       "1        NaN        NaN        NaN    ...              NaN           NaN   \n",
       "2      0.070      0.000      0.008    ...              NaN           NaN   \n",
       "3     -0.203      0.052      0.288    ...              NaN           NaN   \n",
       "4      0.025      0.000     -0.032    ...              NaN           NaN   \n",
       "\n",
       "   L3_S50_F4249  L3_S50_F4251  L3_S50_F4253  L3_S51_F4256  L3_S51_F4258  \\\n",
       "0           NaN           NaN           NaN           NaN           NaN   \n",
       "1           NaN           NaN           NaN           NaN           NaN   \n",
       "2           NaN           NaN           NaN           NaN           NaN   \n",
       "3           NaN           NaN           NaN           NaN           NaN   \n",
       "4           NaN           NaN           NaN           NaN           NaN   \n",
       "\n",
       "   L3_S51_F4260  L3_S51_F4262  Response  \n",
       "0           NaN           NaN         0  \n",
       "1           NaN           NaN         0  \n",
       "2           NaN           NaN         0  \n",
       "3           NaN           NaN         0  \n",
       "4           NaN           NaN         0  \n",
       "\n",
       "[5 rows x 971 columns]"
      ]
     },
     "execution_count": 22,
     "metadata": {},
     "output_type": "execute_result"
    }
   ],
   "source": [
    "train_numeric_reduced.head()"
   ]
  },
  {
   "cell_type": "code",
   "execution_count": 23,
   "metadata": {
    "collapsed": true
   },
   "outputs": [],
   "source": [
    "id_feature=pd.read_csv('bosch_data/idfeature.csv')"
   ]
  },
  {
   "cell_type": "code",
   "execution_count": 24,
   "metadata": {
    "collapsed": false
   },
   "outputs": [
    {
     "data": {
      "text/plain": [
       "(2367494, 9)"
      ]
     },
     "execution_count": 24,
     "metadata": {},
     "output_type": "execute_result"
    }
   ],
   "source": [
    "id_feature.shape"
   ]
  },
  {
   "cell_type": "markdown",
   "metadata": {},
   "source": [
    "### Merge other tables"
   ]
  },
  {
   "cell_type": "code",
   "execution_count": 26,
   "metadata": {
    "collapsed": false
   },
   "outputs": [],
   "source": [
    "#train = pd.merge(train_numeric_reduced, id_feature, on='Id', how='left')"
   ]
  },
  {
   "cell_type": "code",
   "execution_count": 27,
   "metadata": {
    "collapsed": true
   },
   "outputs": [],
   "source": [
    "train = train_numeric_reduced"
   ]
  },
  {
   "cell_type": "markdown",
   "metadata": {},
   "source": [
    "### Define score function"
   ]
  },
  {
   "cell_type": "code",
   "execution_count": 28,
   "metadata": {
    "collapsed": true
   },
   "outputs": [],
   "source": [
    "def mcc(tp, tn, fp, fn):\n",
    "    sup = (tp * tn - fp * fn)*1.0\n",
    "    inf = (tp + fp) * (tp + fn) * (tn + fp) * (tn + fn)\n",
    "    if inf == 0:\n",
    "        return 0\n",
    "    else:\n",
    "        return sup / np.sqrt(inf)\n",
    "\n",
    "\n",
    "def eval_mcc(y_true, y_prob, show=False):\n",
    "    idx = np.argsort(y_prob)\n",
    "    y_true_sort = y_true[idx]\n",
    "    n = y_true.shape[0]\n",
    "    nump = 1.0 * np.sum(y_true)  # number of positive\n",
    "    numn = n - nump  # number of negative\n",
    "    tp = nump\n",
    "    tn = 0.0\n",
    "    fp = numn\n",
    "    fn = 0.0\n",
    "    best_mcc = 0.0\n",
    "    best_id = -1\n",
    "    mccs = np.zeros(n)\n",
    "    for i in range(n):\n",
    "        if y_true_sort[i] == 1:\n",
    "            tp -= 1.0\n",
    "            fn += 1.0\n",
    "        else:\n",
    "            fp -= 1.0\n",
    "            tn += 1.0\n",
    "        new_mcc = mcc(tp, tn, fp, fn)\n",
    "        mccs[i] = new_mcc\n",
    "        if new_mcc >= best_mcc:\n",
    "            best_mcc = new_mcc\n",
    "            best_id = i\n",
    "    \n",
    "    #print(mccs)\n",
    "    if show:\n",
    "        best_proba = y_prob[idx[best_id]]\n",
    "        y_pred = (y_prob > best_proba).astype(int)\n",
    "        return best_proba, best_mcc, y_pred\n",
    "    else:\n",
    "        return best_mcc\n",
    "\n",
    "\n",
    "def mcc_eval(y_prob, dtrain):\n",
    "    y_true = dtrain.get_label()\n",
    "    best_mcc = eval_mcc(y_true, y_prob)\n",
    "    return 'MCC', best_mcc\n",
    "\n",
    "\n"
   ]
  },
  {
   "cell_type": "markdown",
   "metadata": {},
   "source": [
    "## Train graident boosting tree"
   ]
  },
  {
   "cell_type": "code",
   "execution_count": null,
   "metadata": {
    "collapsed": true
   },
   "outputs": [],
   "source": [
    "#### Get feature and target label"
   ]
  },
  {
   "cell_type": "code",
   "execution_count": 42,
   "metadata": {
    "collapsed": false
   },
   "outputs": [],
   "source": [
    "import xgboost as xgb\n",
    "listp=[x for x in train.columns if x not in [\"Id\",\"Unnamed: 0\",\"Response\"]]\n",
    "\n",
    "\n",
    "X=train[listp]\n",
    "Y=train['Response']"
   ]
  },
  {
   "cell_type": "markdown",
   "metadata": {},
   "source": [
    "### Generate train table for xgb"
   ]
  },
  {
   "cell_type": "code",
   "execution_count": 43,
   "metadata": {
    "collapsed": true
   },
   "outputs": [],
   "source": [
    "dvisibletrain = xgb.DMatrix(X,Y,silent=True)"
   ]
  },
  {
   "cell_type": "markdown",
   "metadata": {},
   "source": [
    "### Training xgb"
   ]
  },
  {
   "cell_type": "code",
   "execution_count": 44,
   "metadata": {
    "collapsed": false,
    "scrolled": true
   },
   "outputs": [
    {
     "name": "stdout",
     "output_type": "stream",
     "text": [
      "[0]\ttrain-MCC:0.072475\tval-MCC:0.072475\n",
      "Multiple eval metrics have been passed: 'val-MCC' will be used for early stopping.\n",
      "\n",
      "Will train until val-MCC hasn't improved in 50 rounds.\n",
      "[1]\ttrain-MCC:0.078619\tval-MCC:0.078619\n",
      "[2]\ttrain-MCC:0.088287\tval-MCC:0.088287\n",
      "[3]\ttrain-MCC:0.095305\tval-MCC:0.095305\n",
      "[4]\ttrain-MCC:0.142567\tval-MCC:0.142567\n",
      "[5]\ttrain-MCC:0.246954\tval-MCC:0.246954\n",
      "[6]\ttrain-MCC:0.246954\tval-MCC:0.246954\n",
      "[7]\ttrain-MCC:0.246954\tval-MCC:0.246954\n",
      "[8]\ttrain-MCC:0.2424\tval-MCC:0.2424\n",
      "[9]\ttrain-MCC:0.236345\tval-MCC:0.236345\n",
      "[10]\ttrain-MCC:0.284129\tval-MCC:0.284129\n",
      "[11]\ttrain-MCC:0.275941\tval-MCC:0.275941\n",
      "[12]\ttrain-MCC:0.32317\tval-MCC:0.32317\n",
      "[13]\ttrain-MCC:0.28517\tval-MCC:0.28517\n",
      "[14]\ttrain-MCC:0.32317\tval-MCC:0.32317\n",
      "[15]\ttrain-MCC:0.343494\tval-MCC:0.343494\n",
      "[16]\ttrain-MCC:0.332374\tval-MCC:0.332374\n",
      "[17]\ttrain-MCC:0.315666\tval-MCC:0.315666\n",
      "[18]\ttrain-MCC:0.328713\tval-MCC:0.328713\n",
      "[19]\ttrain-MCC:0.332374\tval-MCC:0.332374\n",
      "[20]\ttrain-MCC:0.349291\tval-MCC:0.349291\n",
      "[21]\ttrain-MCC:0.32317\tval-MCC:0.32317\n",
      "[22]\ttrain-MCC:0.315666\tval-MCC:0.315666\n",
      "[23]\ttrain-MCC:0.332374\tval-MCC:0.332374\n",
      "[24]\ttrain-MCC:0.349291\tval-MCC:0.349291\n",
      "[25]\ttrain-MCC:0.359882\tval-MCC:0.359882\n",
      "[26]\ttrain-MCC:0.377293\tval-MCC:0.377293\n",
      "[27]\ttrain-MCC:0.402101\tval-MCC:0.402101\n",
      "[28]\ttrain-MCC:0.381686\tval-MCC:0.381686\n",
      "[29]\ttrain-MCC:0.3971\tval-MCC:0.3971\n",
      "[30]\ttrain-MCC:0.408615\tval-MCC:0.408615\n",
      "[31]\ttrain-MCC:0.417625\tval-MCC:0.417625\n",
      "[32]\ttrain-MCC:0.393665\tval-MCC:0.393665\n",
      "[33]\ttrain-MCC:0.418016\tval-MCC:0.418016\n",
      "[34]\ttrain-MCC:0.455083\tval-MCC:0.455083\n",
      "[35]\ttrain-MCC:0.495685\tval-MCC:0.495685\n",
      "[36]\ttrain-MCC:0.530525\tval-MCC:0.530525\n",
      "[37]\ttrain-MCC:0.549011\tval-MCC:0.549011\n",
      "[38]\ttrain-MCC:0.56116\tval-MCC:0.56116\n",
      "[39]\ttrain-MCC:0.549154\tval-MCC:0.549154\n",
      "[40]\ttrain-MCC:0.555884\tval-MCC:0.555884\n",
      "[41]\ttrain-MCC:0.610135\tval-MCC:0.610135\n",
      "[42]\ttrain-MCC:0.646303\tval-MCC:0.646303\n",
      "[43]\ttrain-MCC:0.659497\tval-MCC:0.659497\n",
      "[44]\ttrain-MCC:0.699839\tval-MCC:0.699839\n",
      "[45]\ttrain-MCC:0.679767\tval-MCC:0.679767\n",
      "[46]\ttrain-MCC:0.699839\tval-MCC:0.699839\n",
      "[47]\ttrain-MCC:0.692063\tval-MCC:0.692063\n",
      "[48]\ttrain-MCC:0.685451\tval-MCC:0.685451\n",
      "[49]\ttrain-MCC:0.704261\tval-MCC:0.704261\n"
     ]
    }
   ],
   "source": [
    "param = {'max_depth':8, 'eta':.1, 'silent':1}\n",
    "param['colsample_bytree'] = 0.5\n",
    "param['subsample'] = 0.8\n",
    "param['min_child_weight'] = 3\n",
    "param['base_score'] = 0.005\n",
    "param['objective'] = \"binary:logistic\"\n",
    "\n",
    "watchlist = [(dvisibletrain, 'train'), (dvisibletrain, 'val')]\n",
    "## how many trees \n",
    "num_round=50\n",
    "\n",
    "clf=xgb.train(param, dvisibletrain, num_round, \n",
    "              evals=watchlist,feval=mcc_eval, early_stopping_rounds=50,\n",
    "             maximize=True)"
   ]
  },
  {
   "cell_type": "markdown",
   "metadata": {},
   "source": [
    "### Score on test data"
   ]
  },
  {
   "cell_type": "code",
   "execution_count": 34,
   "metadata": {
    "collapsed": true
   },
   "outputs": [],
   "source": [
    "test=pd.read_csv('bosch_data/test_numeric.csv')"
   ]
  },
  {
   "cell_type": "code",
   "execution_count": 45,
   "metadata": {
    "collapsed": false
   },
   "outputs": [],
   "source": [
    "dtest = xgb.DMatrix(test[listp],silent=True)"
   ]
  },
  {
   "cell_type": "code",
   "execution_count": 47,
   "metadata": {
    "collapsed": false
   },
   "outputs": [],
   "source": [
    "prediction = clf.predict(dtest)"
   ]
  },
  {
   "cell_type": "code",
   "execution_count": 52,
   "metadata": {
    "collapsed": true
   },
   "outputs": [],
   "source": [
    "y_pred = (prediction > .08).astype(int)"
   ]
  },
  {
   "cell_type": "code",
   "execution_count": 53,
   "metadata": {
    "collapsed": true
   },
   "outputs": [],
   "source": [
    "resultSubmission = pd.DataFrame({'Id':test['Id'],'Response':y_pred})"
   ]
  },
  {
   "cell_type": "code",
   "execution_count": 54,
   "metadata": {
    "collapsed": true
   },
   "outputs": [],
   "source": [
    "resultSubmission.to_csv('submitResponse.csv',index=False)"
   ]
  },
  {
   "cell_type": "code",
   "execution_count": 55,
   "metadata": {
    "collapsed": false
   },
   "outputs": [
    {
     "data": {
      "text/plain": [
       "(1183748, 2)"
      ]
     },
     "execution_count": 55,
     "metadata": {},
     "output_type": "execute_result"
    }
   ],
   "source": [
    "resultSubmission.shape"
   ]
  },
  {
   "cell_type": "code",
   "execution_count": 56,
   "metadata": {
    "collapsed": false
   },
   "outputs": [
    {
     "data": {
      "text/html": [
       "<div>\n",
       "<table border=\"1\" class=\"dataframe\">\n",
       "  <thead>\n",
       "    <tr style=\"text-align: right;\">\n",
       "      <th></th>\n",
       "      <th>Id</th>\n",
       "      <th>Response</th>\n",
       "    </tr>\n",
       "  </thead>\n",
       "  <tbody>\n",
       "    <tr>\n",
       "      <th>0</th>\n",
       "      <td>1</td>\n",
       "      <td>0</td>\n",
       "    </tr>\n",
       "    <tr>\n",
       "      <th>1</th>\n",
       "      <td>2</td>\n",
       "      <td>0</td>\n",
       "    </tr>\n",
       "    <tr>\n",
       "      <th>2</th>\n",
       "      <td>3</td>\n",
       "      <td>0</td>\n",
       "    </tr>\n",
       "    <tr>\n",
       "      <th>3</th>\n",
       "      <td>5</td>\n",
       "      <td>0</td>\n",
       "    </tr>\n",
       "    <tr>\n",
       "      <th>4</th>\n",
       "      <td>8</td>\n",
       "      <td>0</td>\n",
       "    </tr>\n",
       "  </tbody>\n",
       "</table>\n",
       "</div>"
      ],
      "text/plain": [
       "   Id  Response\n",
       "0   1         0\n",
       "1   2         0\n",
       "2   3         0\n",
       "3   5         0\n",
       "4   8         0"
      ]
     },
     "execution_count": 56,
     "metadata": {},
     "output_type": "execute_result"
    }
   ],
   "source": [
    "resultSubmission.head()"
   ]
  },
  {
   "cell_type": "code",
   "execution_count": null,
   "metadata": {
    "collapsed": true
   },
   "outputs": [],
   "source": []
  }
 ],
 "metadata": {
  "anaconda-cloud": {},
  "kernelspec": {
   "display_name": "Python [conda root]",
   "language": "python",
   "name": "conda-root-py"
  },
  "language_info": {
   "codemirror_mode": {
    "name": "ipython",
    "version": 3
   },
   "file_extension": ".py",
   "mimetype": "text/x-python",
   "name": "python",
   "nbconvert_exporter": "python",
   "pygments_lexer": "ipython3",
   "version": "3.5.2"
  }
 },
 "nbformat": 4,
 "nbformat_minor": 0
}
