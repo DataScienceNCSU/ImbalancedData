{
 "cells": [
  {
   "cell_type": "code",
   "execution_count": 1,
   "metadata": {
    "collapsed": true
   },
   "outputs": [],
   "source": [
    "import numpy as np\n",
    "import pandas as pd\n",
    "import xgboost as xgb\n",
    "\n",
    "from sklearn.preprocessing import LabelEncoder\n",
    "from sklearn.grid_search import GridSearchCV\n",
    "from sklearn.cross_validation import StratifiedKFold\n",
    "from sklearn.cross_validation import cross_val_score\n",
    "from sklearn.metrics import auc\n",
    "from sklearn.metrics import matthews_corrcoef, make_scorer\n",
    "from sklearn import metrics"
   ]
  },
  {
   "cell_type": "markdown",
   "metadata": {},
   "source": [
    "### Load Data"
   ]
  },
  {
   "cell_type": "code",
   "execution_count": 20,
   "metadata": {
    "collapsed": false,
    "scrolled": true
   },
   "outputs": [
    {
     "data": {
      "text/plain": [
       "(6879, 1176868)"
      ]
     },
     "execution_count": 20,
     "metadata": {},
     "output_type": "execute_result"
    }
   ],
   "source": [
    "pos_data = train_numeric_reduced.loc[train_numeric_reduced['Response'] == 1] \n",
    "neg_data = train_numeric_reduced.loc[train_numeric_reduced['Response'] == 0]\n",
    "pos_data = pos_data.apply(np.random.permutation)\n",
    "neg_data = neg_data.apply(np.random.permutation)\n",
    "np.size(pos_data,0), np.size(neg_data,0)"
   ]
  },
  {
   "cell_type": "code",
   "execution_count": 21,
   "metadata": {
    "collapsed": false
   },
   "outputs": [
    {
     "data": {
      "text/plain": [
       "(6879, 1176868)"
      ]
     },
     "execution_count": 21,
     "metadata": {},
     "output_type": "execute_result"
    }
   ],
   "source": [
    "pos_num = np.size(pos_data,0)\n",
    "neg_num = np.size(neg_data,0)\n",
    "train_pos_num = int(pos_num*0.5+1)\n",
    "train_neg_num = int(neg_num*0.5)\n",
    "val_pos_num = int(pos_num*0.25+1)\n",
    "val_neg_num = int(neg_num*0.25)\n",
    "test_pos_num= int(pos_num*0.25)\n",
    "test_neg_num = int(neg_num*0.25)\n",
    "train_pos_num + val_pos_num + test_pos_num, train_neg_num + val_neg_num + test_neg_num"
   ]
  },
  {
   "cell_type": "code",
   "execution_count": 22,
   "metadata": {
    "collapsed": false,
    "scrolled": true
   },
   "outputs": [],
   "source": [
    "train_pos_id = pd.read_csv('data/NewDataSet/train_pos_id.csv')\n",
    "train_neg_id = pd.read_csv('data/NewDataSet/train_neg_id.csv')\n",
    "val_pos_id = pd.read_csv('data/NewDataSet/val_pos_id.csv')\n",
    "val_neg_id = pd.read_csv('data/NewDataSet/val_neg_id.csv')\n",
    "test_pos_id = pd.read_csv('data/NewDataSet/test_pos_id.csv')\n",
    "test_neg_id = pd.read_csv('data/NewDataSet/test_neg_id.csv')\n",
    "train_id = pd.read_csv('data/NewDataSet/train_id.csv')\n",
    "val_id = pd.read_csv('data/NewDataSet/val_id.csv')\n",
    "test_id = pd.read_csv('data/NewDataSet/test_id.csv')"
   ]
  },
  {
   "cell_type": "code",
   "execution_count": 23,
   "metadata": {
    "collapsed": false
   },
   "outputs": [
    {
     "data": {
      "text/plain": [
       "(3440, 588434)"
      ]
     },
     "execution_count": 23,
     "metadata": {},
     "output_type": "execute_result"
    }
   ],
   "source": [
    "# train_pos = pos_data.iloc[0:train_pos_num]\n",
    "# np.size(train_pos,0)\n",
    "train_pos = pos_data.loc[pos_data['Id'].isin(train_id['Id'])]\n",
    "train_neg = neg_data.loc[neg_data['Id'].isin(train_id['Id'])]\n",
    "np.size(train_pos, 0), np.size(train_neg, 0)"
   ]
  },
  {
   "cell_type": "code",
   "execution_count": 24,
   "metadata": {
    "collapsed": false,
    "scrolled": true
   },
   "outputs": [
    {
     "data": {
      "text/plain": [
       "(1720, 294217)"
      ]
     },
     "execution_count": 24,
     "metadata": {},
     "output_type": "execute_result"
    }
   ],
   "source": [
    "# train_neg_num = int(neg_num*0.5)\n",
    "# train_neg = neg_data.iloc[0:train_neg_num]\n",
    "# np.size(train_neg, 0)\n",
    "val_pos = pos_data.loc[pos_data['Id'].isin(val_id['Id'])]\n",
    "val_neg = neg_data.loc[neg_data['Id'].isin(val_id['Id'])]\n",
    "np.size(val_pos, 0), np.size(val_neg,0)"
   ]
  },
  {
   "cell_type": "code",
   "execution_count": 25,
   "metadata": {
    "collapsed": false,
    "scrolled": false
   },
   "outputs": [
    {
     "data": {
      "text/plain": [
       "(1719, 294217)"
      ]
     },
     "execution_count": 25,
     "metadata": {},
     "output_type": "execute_result"
    }
   ],
   "source": [
    "test_pos = pos_data.loc[pos_data['Id'].isin(test_id['Id'])]\n",
    "test_neg = neg_data.loc[neg_data['Id'].isin(test_id['Id'])]\n",
    "np.size(test_pos, 0), np.size(test_neg,0)"
   ]
  },
  {
   "cell_type": "markdown",
   "metadata": {},
   "source": [
    "### Merge other tables"
   ]
  },
  {
   "cell_type": "code",
   "execution_count": 43,
   "metadata": {
    "collapsed": false
   },
   "outputs": [
    {
     "data": {
      "text/plain": [
       "(2367494, 9)"
      ]
     },
     "execution_count": 43,
     "metadata": {},
     "output_type": "execute_result"
    }
   ],
   "source": [
    "id_feature=pd.read_csv('data/idfeature.csv')\n",
    "id_feature.shape"
   ]
  },
  {
   "cell_type": "code",
   "execution_count": 44,
   "metadata": {
    "collapsed": false
   },
   "outputs": [
    {
     "data": {
      "text/html": [
       "<div>\n",
       "<table border=\"1\" class=\"dataframe\">\n",
       "  <thead>\n",
       "    <tr style=\"text-align: right;\">\n",
       "      <th></th>\n",
       "      <th>Unnamed: 0</th>\n",
       "      <th>index</th>\n",
       "      <th>Id</th>\n",
       "      <th>Response</th>\n",
       "      <th>StartTime</th>\n",
       "      <th>0_¯\\_(ツ)_/¯_1</th>\n",
       "      <th>0_¯\\_(ツ)_/¯_2</th>\n",
       "      <th>0_¯\\_(ツ)_/¯_3</th>\n",
       "      <th>0_¯\\_(ツ)_/¯_4</th>\n",
       "    </tr>\n",
       "  </thead>\n",
       "  <tbody>\n",
       "    <tr>\n",
       "      <th>0</th>\n",
       "      <td>2083747</td>\n",
       "      <td>2083747</td>\n",
       "      <td>1800056</td>\n",
       "      <td>NaN</td>\n",
       "      <td>-1.0</td>\n",
       "      <td>2</td>\n",
       "      <td>-1</td>\n",
       "      <td>9999999</td>\n",
       "      <td>-1</td>\n",
       "    </tr>\n",
       "    <tr>\n",
       "      <th>1</th>\n",
       "      <td>2083748</td>\n",
       "      <td>2083748</td>\n",
       "      <td>1800057</td>\n",
       "      <td>NaN</td>\n",
       "      <td>-1.0</td>\n",
       "      <td>1</td>\n",
       "      <td>-2</td>\n",
       "      <td>1</td>\n",
       "      <td>-2</td>\n",
       "    </tr>\n",
       "    <tr>\n",
       "      <th>2</th>\n",
       "      <td>2083749</td>\n",
       "      <td>2083749</td>\n",
       "      <td>1800059</td>\n",
       "      <td>NaN</td>\n",
       "      <td>-1.0</td>\n",
       "      <td>2</td>\n",
       "      <td>-6</td>\n",
       "      <td>2</td>\n",
       "      <td>-6</td>\n",
       "    </tr>\n",
       "    <tr>\n",
       "      <th>3</th>\n",
       "      <td>2083750</td>\n",
       "      <td>2083750</td>\n",
       "      <td>1800065</td>\n",
       "      <td>NaN</td>\n",
       "      <td>-1.0</td>\n",
       "      <td>6</td>\n",
       "      <td>-1</td>\n",
       "      <td>6</td>\n",
       "      <td>-1</td>\n",
       "    </tr>\n",
       "    <tr>\n",
       "      <th>4</th>\n",
       "      <td>2083751</td>\n",
       "      <td>2083751</td>\n",
       "      <td>1800066</td>\n",
       "      <td>NaN</td>\n",
       "      <td>-1.0</td>\n",
       "      <td>1</td>\n",
       "      <td>-5</td>\n",
       "      <td>1</td>\n",
       "      <td>-5</td>\n",
       "    </tr>\n",
       "  </tbody>\n",
       "</table>\n",
       "</div>"
      ],
      "text/plain": [
       "   Unnamed: 0    index       Id  Response  StartTime  0_¯\\_(ツ)_/¯_1  \\\n",
       "0     2083747  2083747  1800056       NaN       -1.0              2   \n",
       "1     2083748  2083748  1800057       NaN       -1.0              1   \n",
       "2     2083749  2083749  1800059       NaN       -1.0              2   \n",
       "3     2083750  2083750  1800065       NaN       -1.0              6   \n",
       "4     2083751  2083751  1800066       NaN       -1.0              1   \n",
       "\n",
       "   0_¯\\_(ツ)_/¯_2  0_¯\\_(ツ)_/¯_3  0_¯\\_(ツ)_/¯_4  \n",
       "0             -1        9999999             -1  \n",
       "1             -2              1             -2  \n",
       "2             -6              2             -6  \n",
       "3             -1              6             -1  \n",
       "4             -5              1             -5  "
      ]
     },
     "execution_count": 44,
     "metadata": {},
     "output_type": "execute_result"
    }
   ],
   "source": [
    "id_feature.head()"
   ]
  },
  {
   "cell_type": "code",
   "execution_count": null,
   "metadata": {
    "collapsed": true
   },
   "outputs": [],
   "source": [
    "id_feature"
   ]
  },
  {
   "cell_type": "code",
   "execution_count": 172,
   "metadata": {
    "collapsed": true
   },
   "outputs": [],
   "source": [
    "pd.merge(train_numeric_reduced, id_feature, on='Id', how='left')\n",
    "#train_reduced_data = pd.merge(train_numeric_reduced, id_feature, on='Id', how='left')\n",
    "#train = train_numeric_reduced"
   ]
  },
  {
   "cell_type": "code",
   "execution_count": null,
   "metadata": {
    "collapsed": true
   },
   "outputs": [],
   "source": [
    "id_feature"
   ]
  },
  {
   "cell_type": "markdown",
   "metadata": {},
   "source": [
    "### Down Sampling"
   ]
  },
  {
   "cell_type": "code",
   "execution_count": 26,
   "metadata": {
    "collapsed": false
   },
   "outputs": [
    {
     "data": {
      "text/plain": [
       "(295936, 67)"
      ]
     },
     "execution_count": 26,
     "metadata": {},
     "output_type": "execute_result"
    }
   ],
   "source": [
    "test = test_pos.append(test_neg)\n",
    "test.shape"
   ]
  },
  {
   "cell_type": "code",
   "execution_count": 27,
   "metadata": {
    "collapsed": false
   },
   "outputs": [],
   "source": [
    "y_true = test['Response'].values"
   ]
  },
  {
   "cell_type": "code",
   "execution_count": 31,
   "metadata": {
    "collapsed": true
   },
   "outputs": [],
   "source": [
    "def mcc(tp, tn, fp, fn):\n",
    "    sup = (tp * tn - fp * fn)*1.0\n",
    "    inf = (tp + fp) * (tp + fn) * (tn + fp) * (tn + fn)\n",
    "    if inf == 0:\n",
    "        return 0\n",
    "    else:\n",
    "        return sup / np.sqrt(inf)\n",
    "\n",
    "def eval_mcc(y_true, y_prob, show=False):\n",
    "    idx = np.argsort(y_prob)\n",
    "    y_true_sort = y_true[idx]\n",
    "    n = y_true.shape[0]\n",
    "    nump = 1.0 * np.sum(y_true)  # number of positive\n",
    "    numn = n - nump  # number of negative\n",
    "    tp = nump\n",
    "    tn = 0.0\n",
    "    fp = numn\n",
    "    fn = 0.0\n",
    "    best_mcc = 0.0\n",
    "    best_id = -1\n",
    "    mccs = np.zeros(n)\n",
    "    for i in range(n):\n",
    "        if y_true_sort[i] == 1:\n",
    "            tp -= 1.0\n",
    "            fn += 1.0\n",
    "        else:\n",
    "            fp -= 1.0\n",
    "            tn += 1.0\n",
    "        new_mcc = mcc(tp, tn, fp, fn)\n",
    "        mccs[i] = new_mcc\n",
    "        if new_mcc >= best_mcc:\n",
    "            best_mcc = new_mcc\n",
    "            best_id = i\n",
    "    \n",
    "    #print(mccs)\n",
    "    if show:\n",
    "        best_proba = y_prob[idx[best_id]]\n",
    "        y_pred = (y_prob > best_proba).astype(int)\n",
    "        return best_proba, best_mcc, y_pred\n",
    "    else:\n",
    "        return best_mcc\n",
    "\n",
    "\n",
    "def mcc_eval(y_prob, dtrain):\n",
    "    y_true = dtrain.get_label()\n",
    "    best_mcc = eval_mcc(y_true, y_prob)\n",
    "    return 'MCC', best_mcc"
   ]
  },
  {
   "cell_type": "markdown",
   "metadata": {},
   "source": [
    "## Training xgb"
   ]
  },
  {
   "cell_type": "code",
   "execution_count": 37,
   "metadata": {
    "collapsed": false
   },
   "outputs": [],
   "source": [
    "ratio = [1, 3, 10, 171] #, 20, 30, 40, 50, 100, 150, 171]\n",
    "listp=[x for x in pos_data.columns if x not in [\"Id\",\"Response\"]]"
   ]
  },
  {
   "cell_type": "code",
   "execution_count": 38,
   "metadata": {
    "collapsed": true
   },
   "outputs": [],
   "source": [
    "res_columns = ['pn_ratio', 'train_num', 'val_num', 'test_num', 'fpr0','fpr1', 'tpr0','tpr1', 'auc']#, 'mcc']\n",
    "res = pd.DataFrame(columns = res_columns)"
   ]
  },
  {
   "cell_type": "code",
   "execution_count": 39,
   "metadata": {
    "collapsed": true
   },
   "outputs": [],
   "source": [
    "param = {'max_depth':10, 'eta':.1, 'silent':1}\n",
    "param['colsample_bytree'] = 0.8\n",
    "param['subsample'] = 0.8\n",
    "param['min_child_weight'] = 3\n",
    "param['base_score'] = 0.005\n",
    "param['objective'] = \"binary:logistic\"\n",
    "param['n_estimators']=200\n",
    "param['learning_rate'] = 0.05\n",
    "param['eval_metric'] = \"auc\""
   ]
  },
  {
   "cell_type": "code",
   "execution_count": 40,
   "metadata": {
    "collapsed": false,
    "scrolled": true
   },
   "outputs": [
    {
     "name": "stdout",
     "output_type": "stream",
     "text": [
      "** Pos-Neg Ratio = 1:1\n",
      "[0]\ttrain-auc:0.5\tval-auc:0.5\n",
      "Multiple eval metrics have been passed: 'val-auc' will be used for early stopping.\n",
      "\n",
      "Will train until val-auc hasn't improved in 50 rounds.\n",
      "[1]\ttrain-auc:0.711491\tval-auc:0.510248\n",
      "[2]\ttrain-auc:0.780757\tval-auc:0.522429\n",
      "[3]\ttrain-auc:0.832035\tval-auc:0.524052\n",
      "[4]\ttrain-auc:0.858134\tval-auc:0.516846\n",
      "[5]\ttrain-auc:0.884621\tval-auc:0.510456\n",
      "[6]\ttrain-auc:0.901188\tval-auc:0.512197\n",
      "[7]\ttrain-auc:0.91285\tval-auc:0.506338\n",
      "[8]\ttrain-auc:0.928413\tval-auc:0.512346\n",
      "[9]\ttrain-auc:0.935946\tval-auc:0.508978\n",
      "[10]\ttrain-auc:0.942951\tval-auc:0.510105\n",
      "[11]\ttrain-auc:0.953782\tval-auc:0.508001\n",
      "[12]\ttrain-auc:0.960934\tval-auc:0.506534\n",
      "[13]\ttrain-auc:0.968672\tval-auc:0.508113\n",
      "[14]\ttrain-auc:0.972034\tval-auc:0.506732\n",
      "[15]\ttrain-auc:0.97542\tval-auc:0.50385\n",
      "[16]\ttrain-auc:0.978794\tval-auc:0.506651\n",
      "[17]\ttrain-auc:0.980973\tval-auc:0.505026\n",
      "[18]\ttrain-auc:0.983008\tval-auc:0.503862\n",
      "[19]\ttrain-auc:0.985551\tval-auc:0.505782\n",
      "[20]\ttrain-auc:0.986824\tval-auc:0.507955\n",
      "[21]\ttrain-auc:0.987914\tval-auc:0.505977\n",
      "[22]\ttrain-auc:0.989984\tval-auc:0.502609\n",
      "[23]\ttrain-auc:0.991023\tval-auc:0.500138\n",
      "[24]\ttrain-auc:0.991836\tval-auc:0.500626\n",
      "[25]\ttrain-auc:0.992748\tval-auc:0.497772\n",
      "[26]\ttrain-auc:0.994637\tval-auc:0.500085\n",
      "[27]\ttrain-auc:0.995458\tval-auc:0.49806\n",
      "[28]\ttrain-auc:0.995869\tval-auc:0.496659\n",
      "[29]\ttrain-auc:0.996242\tval-auc:0.496712\n",
      "[30]\ttrain-auc:0.99684\tval-auc:0.496854\n",
      "[31]\ttrain-auc:0.997114\tval-auc:0.496749\n",
      "[32]\ttrain-auc:0.997317\tval-auc:0.49787\n",
      "[33]\ttrain-auc:0.997446\tval-auc:0.49665\n",
      "[34]\ttrain-auc:0.997685\tval-auc:0.494987\n",
      "[35]\ttrain-auc:0.998109\tval-auc:0.495677\n",
      "[36]\ttrain-auc:0.998145\tval-auc:0.495333\n",
      "[37]\ttrain-auc:0.998166\tval-auc:0.495139\n",
      "[38]\ttrain-auc:0.998321\tval-auc:0.495917\n",
      "[39]\ttrain-auc:0.998534\tval-auc:0.49388\n",
      "[40]\ttrain-auc:0.998639\tval-auc:0.493693\n",
      "[41]\ttrain-auc:0.998826\tval-auc:0.494571\n",
      "[42]\ttrain-auc:0.998991\tval-auc:0.493064\n",
      "[43]\ttrain-auc:0.999065\tval-auc:0.491124\n",
      "[44]\ttrain-auc:0.999185\tval-auc:0.491338\n",
      "[45]\ttrain-auc:0.999264\tval-auc:0.491649\n",
      "[46]\ttrain-auc:0.999372\tval-auc:0.49201\n",
      "[47]\ttrain-auc:0.99949\tval-auc:0.490823\n",
      "[48]\ttrain-auc:0.999614\tval-auc:0.491061\n",
      "[49]\ttrain-auc:0.999647\tval-auc:0.491299\n",
      "[50]\ttrain-auc:0.999689\tval-auc:0.491924\n",
      "[51]\ttrain-auc:0.999774\tval-auc:0.491211\n",
      "[52]\ttrain-auc:0.999777\tval-auc:0.4912\n",
      "[53]\ttrain-auc:0.999824\tval-auc:0.493321\n",
      "Stopping. Best iteration:\n",
      "[3]\ttrain-auc:0.832035\tval-auc:0.524052\n",
      "\n",
      "** Pos-Neg Ratio = 1:3\n",
      "[0]\ttrain-auc:0.5\tval-auc:0.5\n",
      "Multiple eval metrics have been passed: 'val-auc' will be used for early stopping.\n",
      "\n",
      "Will train until val-auc hasn't improved in 50 rounds.\n",
      "[1]\ttrain-auc:0.599406\tval-auc:0.506229\n",
      "[2]\ttrain-auc:0.6513\tval-auc:0.51057\n",
      "[3]\ttrain-auc:0.704567\tval-auc:0.516228\n",
      "[4]\ttrain-auc:0.722318\tval-auc:0.518589\n",
      "[5]\ttrain-auc:0.750083\tval-auc:0.512115\n",
      "[6]\ttrain-auc:0.770035\tval-auc:0.508367\n",
      "[7]\ttrain-auc:0.787154\tval-auc:0.509138\n",
      "[8]\ttrain-auc:0.804017\tval-auc:0.505934\n",
      "[9]\ttrain-auc:0.831284\tval-auc:0.501993\n",
      "[10]\ttrain-auc:0.853668\tval-auc:0.500247\n",
      "[11]\ttrain-auc:0.87043\tval-auc:0.502339\n",
      "[12]\ttrain-auc:0.879335\tval-auc:0.503364\n",
      "[13]\ttrain-auc:0.894687\tval-auc:0.501718\n",
      "[14]\ttrain-auc:0.900195\tval-auc:0.502056\n",
      "[15]\ttrain-auc:0.912709\tval-auc:0.503568\n",
      "[16]\ttrain-auc:0.921285\tval-auc:0.505793\n",
      "[17]\ttrain-auc:0.928946\tval-auc:0.505394\n",
      "[18]\ttrain-auc:0.934019\tval-auc:0.50523\n",
      "[19]\ttrain-auc:0.937315\tval-auc:0.504089\n",
      "[20]\ttrain-auc:0.942638\tval-auc:0.504283\n",
      "[21]\ttrain-auc:0.945755\tval-auc:0.505251\n",
      "[22]\ttrain-auc:0.948094\tval-auc:0.505604\n",
      "[23]\ttrain-auc:0.954341\tval-auc:0.505222\n",
      "[24]\ttrain-auc:0.96132\tval-auc:0.5047\n",
      "[25]\ttrain-auc:0.962664\tval-auc:0.505044\n",
      "[26]\ttrain-auc:0.965073\tval-auc:0.50613\n",
      "[27]\ttrain-auc:0.967576\tval-auc:0.505613\n",
      "[28]\ttrain-auc:0.971355\tval-auc:0.503759\n",
      "[29]\ttrain-auc:0.972845\tval-auc:0.502832\n",
      "[30]\ttrain-auc:0.975425\tval-auc:0.503732\n",
      "[31]\ttrain-auc:0.977446\tval-auc:0.504445\n",
      "[32]\ttrain-auc:0.9785\tval-auc:0.50481\n",
      "[33]\ttrain-auc:0.980972\tval-auc:0.504206\n",
      "[34]\ttrain-auc:0.982367\tval-auc:0.503581\n",
      "[35]\ttrain-auc:0.984674\tval-auc:0.5025\n",
      "[36]\ttrain-auc:0.986032\tval-auc:0.501356\n",
      "[37]\ttrain-auc:0.986313\tval-auc:0.501098\n",
      "[38]\ttrain-auc:0.987619\tval-auc:0.500769\n",
      "[39]\ttrain-auc:0.989568\tval-auc:0.502294\n",
      "[40]\ttrain-auc:0.990165\tval-auc:0.502496\n",
      "[41]\ttrain-auc:0.99174\tval-auc:0.50241\n",
      "[42]\ttrain-auc:0.992118\tval-auc:0.503278\n",
      "[43]\ttrain-auc:0.992762\tval-auc:0.503239\n",
      "[44]\ttrain-auc:0.99323\tval-auc:0.503956\n",
      "[45]\ttrain-auc:0.994266\tval-auc:0.504219\n",
      "[46]\ttrain-auc:0.994655\tval-auc:0.502456\n",
      "[47]\ttrain-auc:0.995009\tval-auc:0.502954\n",
      "[48]\ttrain-auc:0.995142\tval-auc:0.502359\n",
      "[49]\ttrain-auc:0.99532\tval-auc:0.501358\n",
      "[50]\ttrain-auc:0.995668\tval-auc:0.50232\n",
      "[51]\ttrain-auc:0.996016\tval-auc:0.502306\n",
      "[52]\ttrain-auc:0.99628\tval-auc:0.502211\n",
      "[53]\ttrain-auc:0.996457\tval-auc:0.501599\n",
      "[54]\ttrain-auc:0.996648\tval-auc:0.501812\n",
      "Stopping. Best iteration:\n",
      "[4]\ttrain-auc:0.722318\tval-auc:0.518589\n",
      "\n",
      "** Pos-Neg Ratio = 1:10\n",
      "[0]\ttrain-auc:0.515684\tval-auc:0.504122\n",
      "Multiple eval metrics have been passed: 'val-auc' will be used for early stopping.\n",
      "\n",
      "Will train until val-auc hasn't improved in 50 rounds.\n",
      "[1]\ttrain-auc:0.576258\tval-auc:0.502866\n",
      "[2]\ttrain-auc:0.630174\tval-auc:0.494797\n",
      "[3]\ttrain-auc:0.663955\tval-auc:0.490007\n",
      "[4]\ttrain-auc:0.700661\tval-auc:0.490772\n",
      "[5]\ttrain-auc:0.723134\tval-auc:0.489734\n",
      "[6]\ttrain-auc:0.736339\tval-auc:0.488892\n",
      "[7]\ttrain-auc:0.748388\tval-auc:0.488248\n",
      "[8]\ttrain-auc:0.76643\tval-auc:0.487632\n",
      "[9]\ttrain-auc:0.780561\tval-auc:0.487259\n",
      "[10]\ttrain-auc:0.787931\tval-auc:0.488568\n",
      "[11]\ttrain-auc:0.804456\tval-auc:0.489487\n",
      "[12]\ttrain-auc:0.811738\tval-auc:0.488685\n",
      "[13]\ttrain-auc:0.820878\tval-auc:0.487318\n",
      "[14]\ttrain-auc:0.832185\tval-auc:0.488303\n",
      "[15]\ttrain-auc:0.843039\tval-auc:0.489195\n",
      "[16]\ttrain-auc:0.851971\tval-auc:0.490029\n",
      "[17]\ttrain-auc:0.864274\tval-auc:0.491022\n",
      "[18]\ttrain-auc:0.872926\tval-auc:0.49054\n",
      "[19]\ttrain-auc:0.883467\tval-auc:0.488827\n",
      "[20]\ttrain-auc:0.891137\tval-auc:0.488272\n",
      "[21]\ttrain-auc:0.895638\tval-auc:0.488636\n",
      "[22]\ttrain-auc:0.901376\tval-auc:0.489017\n",
      "[23]\ttrain-auc:0.903845\tval-auc:0.48872\n",
      "[24]\ttrain-auc:0.908099\tval-auc:0.488956\n",
      "[25]\ttrain-auc:0.912023\tval-auc:0.489169\n",
      "[26]\ttrain-auc:0.91464\tval-auc:0.48935\n",
      "[27]\ttrain-auc:0.916914\tval-auc:0.488813\n",
      "[28]\ttrain-auc:0.917708\tval-auc:0.489321\n",
      "[29]\ttrain-auc:0.921675\tval-auc:0.490725\n",
      "[30]\ttrain-auc:0.924227\tval-auc:0.490836\n",
      "[31]\ttrain-auc:0.929062\tval-auc:0.490097\n",
      "[32]\ttrain-auc:0.930427\tval-auc:0.489635\n",
      "[33]\ttrain-auc:0.932791\tval-auc:0.489801\n",
      "[34]\ttrain-auc:0.934215\tval-auc:0.489348\n",
      "[35]\ttrain-auc:0.937038\tval-auc:0.48938\n",
      "[36]\ttrain-auc:0.93928\tval-auc:0.489514\n",
      "[37]\ttrain-auc:0.941591\tval-auc:0.489619\n",
      "[38]\ttrain-auc:0.942651\tval-auc:0.489903\n",
      "[39]\ttrain-auc:0.9452\tval-auc:0.490322\n",
      "[40]\ttrain-auc:0.9466\tval-auc:0.490594\n",
      "[41]\ttrain-auc:0.948333\tval-auc:0.490584\n",
      "[42]\ttrain-auc:0.950391\tval-auc:0.489991\n",
      "[43]\ttrain-auc:0.95097\tval-auc:0.489693\n",
      "[44]\ttrain-auc:0.952786\tval-auc:0.489362\n",
      "[45]\ttrain-auc:0.953797\tval-auc:0.488997\n",
      "[46]\ttrain-auc:0.954761\tval-auc:0.489007\n",
      "[47]\ttrain-auc:0.957025\tval-auc:0.489151\n",
      "[48]\ttrain-auc:0.958375\tval-auc:0.488398\n",
      "[49]\ttrain-auc:0.959449\tval-auc:0.488469\n",
      "[50]\ttrain-auc:0.960054\tval-auc:0.488845\n",
      "Stopping. Best iteration:\n",
      "[0]\ttrain-auc:0.515684\tval-auc:0.504122\n",
      "\n",
      "** Pos-Neg Ratio = 1:171\n",
      "[0]\ttrain-auc:0.634517\tval-auc:0.511541\n",
      "Multiple eval metrics have been passed: 'val-auc' will be used for early stopping.\n",
      "\n",
      "Will train until val-auc hasn't improved in 50 rounds.\n",
      "[1]\ttrain-auc:0.688135\tval-auc:0.507251\n",
      "[2]\ttrain-auc:0.722696\tval-auc:0.501257\n",
      "[3]\ttrain-auc:0.750973\tval-auc:0.500951\n",
      "[4]\ttrain-auc:0.772556\tval-auc:0.497565\n",
      "[5]\ttrain-auc:0.801385\tval-auc:0.500197\n",
      "[6]\ttrain-auc:0.808428\tval-auc:0.503796\n",
      "[7]\ttrain-auc:0.821433\tval-auc:0.499755\n",
      "[8]\ttrain-auc:0.828935\tval-auc:0.501098\n",
      "[9]\ttrain-auc:0.840678\tval-auc:0.499631\n",
      "[10]\ttrain-auc:0.849818\tval-auc:0.504391\n",
      "[11]\ttrain-auc:0.857405\tval-auc:0.505956\n",
      "[12]\ttrain-auc:0.862908\tval-auc:0.505283\n",
      "[13]\ttrain-auc:0.872805\tval-auc:0.507056\n",
      "[14]\ttrain-auc:0.87807\tval-auc:0.502255\n",
      "[15]\ttrain-auc:0.881248\tval-auc:0.502976\n",
      "[16]\ttrain-auc:0.889875\tval-auc:0.50424\n",
      "[17]\ttrain-auc:0.895857\tval-auc:0.504081\n",
      "[18]\ttrain-auc:0.901698\tval-auc:0.503562\n",
      "[19]\ttrain-auc:0.904896\tval-auc:0.503306\n",
      "[20]\ttrain-auc:0.909181\tval-auc:0.501619\n",
      "[21]\ttrain-auc:0.913863\tval-auc:0.501543\n",
      "[22]\ttrain-auc:0.916634\tval-auc:0.50058\n",
      "[23]\ttrain-auc:0.9218\tval-auc:0.499333\n",
      "[24]\ttrain-auc:0.924927\tval-auc:0.499768\n",
      "[25]\ttrain-auc:0.925537\tval-auc:0.498813\n",
      "[26]\ttrain-auc:0.92771\tval-auc:0.499177\n",
      "[27]\ttrain-auc:0.928146\tval-auc:0.499549\n",
      "[28]\ttrain-auc:0.929767\tval-auc:0.499133\n",
      "[29]\ttrain-auc:0.933662\tval-auc:0.496487\n",
      "[30]\ttrain-auc:0.935736\tval-auc:0.495508\n",
      "[31]\ttrain-auc:0.936101\tval-auc:0.497413\n",
      "[32]\ttrain-auc:0.937464\tval-auc:0.495413\n",
      "[33]\ttrain-auc:0.939305\tval-auc:0.497808\n",
      "[34]\ttrain-auc:0.94025\tval-auc:0.498078\n",
      "[35]\ttrain-auc:0.94201\tval-auc:0.499067\n",
      "[36]\ttrain-auc:0.943223\tval-auc:0.499993\n",
      "[37]\ttrain-auc:0.944684\tval-auc:0.500528\n",
      "[38]\ttrain-auc:0.947388\tval-auc:0.500386\n",
      "[39]\ttrain-auc:0.948102\tval-auc:0.50057\n",
      "[40]\ttrain-auc:0.949924\tval-auc:0.502045\n",
      "[41]\ttrain-auc:0.950708\tval-auc:0.50285\n",
      "[42]\ttrain-auc:0.951364\tval-auc:0.503609\n",
      "[43]\ttrain-auc:0.952392\tval-auc:0.504495\n",
      "[44]\ttrain-auc:0.952873\tval-auc:0.505705\n",
      "[45]\ttrain-auc:0.955249\tval-auc:0.505499\n",
      "[46]\ttrain-auc:0.958126\tval-auc:0.504507\n",
      "[47]\ttrain-auc:0.960163\tval-auc:0.503504\n",
      "[48]\ttrain-auc:0.960892\tval-auc:0.503677\n",
      "[49]\ttrain-auc:0.96257\tval-auc:0.503486\n",
      "[50]\ttrain-auc:0.962538\tval-auc:0.503217\n",
      "Stopping. Best iteration:\n",
      "[0]\ttrain-auc:0.634517\tval-auc:0.511541\n",
      "\n"
     ]
    }
   ],
   "source": [
    "for i in ratio:\n",
    "    print('** Pos-Neg Ratio = 1:{0}'.format(i))\n",
    "    train_neg_num = train_pos_num * i\n",
    "    val_neg_num = val_pos_num * i\n",
    "    \n",
    "    train = train_pos.append(train_neg.iloc[0:train_neg_num])\n",
    "    val = val_pos.append(val_neg.iloc[0:val_neg_num])\n",
    "    \n",
    "    Xtrain=train[listp]\n",
    "    Ytrain=train['Response']\n",
    "    Xval = val[listp]\n",
    "    Yval = val['Response']\n",
    "    \n",
    "    dvisibletrain = xgb.DMatrix(Xtrain,Ytrain,silent=True)\n",
    "    dvisibleval = xgb.DMatrix(Xval,Yval, silent=True)\n",
    "    watchlist = [(dvisibletrain, 'train'), (dvisibleval, 'val')]\n",
    "    \n",
    "    ## how many trees \n",
    "    num_round=100\n",
    "    clf=xgb.train(param, dvisibletrain, num_round, \n",
    "                  evals=watchlist,\n",
    "                  early_stopping_rounds=50,\n",
    "                  #feval = mcc_eval,\n",
    "                  maximize=True)\n",
    "    dtest = xgb.DMatrix(test[listp],silent=True)\n",
    "    prediction = clf.predict(dtest)\n",
    "    y_pred = (prediction > .08).astype(int)\n",
    "    fpr, tpr, _ = metrics.roc_curve(y_true, y_pred)\n",
    "    auc = metrics.auc(fpr, tpr)\n",
    "    #mcc = eval_mcc(y_true, y_pred)\n",
    "    res.loc[len(res)]= [i, np.size(train,0), np.size(val,0), np.size(test,0), fpr[0], fpr[1], tpr[0], tpr[1], auc]#, mcc]"
   ]
  },
  {
   "cell_type": "code",
   "execution_count": 42,
   "metadata": {
    "collapsed": false
   },
   "outputs": [],
   "source": [
    "res.to_csv('results_f65_11242042.csv', index=False)"
   ]
  },
  {
   "cell_type": "code",
   "execution_count": 41,
   "metadata": {
    "collapsed": false
   },
   "outputs": [
    {
     "data": {
      "text/html": [
       "<div>\n",
       "<table border=\"1\" class=\"dataframe\">\n",
       "  <thead>\n",
       "    <tr style=\"text-align: right;\">\n",
       "      <th></th>\n",
       "      <th>pn_ratio</th>\n",
       "      <th>train_num</th>\n",
       "      <th>val_num</th>\n",
       "      <th>test_num</th>\n",
       "      <th>fpr0</th>\n",
       "      <th>fpr1</th>\n",
       "      <th>tpr0</th>\n",
       "      <th>tpr1</th>\n",
       "      <th>auc</th>\n",
       "    </tr>\n",
       "  </thead>\n",
       "  <tbody>\n",
       "    <tr>\n",
       "      <th>0</th>\n",
       "      <td>1.0</td>\n",
       "      <td>6880.0</td>\n",
       "      <td>3440.0</td>\n",
       "      <td>295936.0</td>\n",
       "      <td>0.0</td>\n",
       "      <td>1.000000</td>\n",
       "      <td>0.0</td>\n",
       "      <td>1.000000</td>\n",
       "      <td>0.500000</td>\n",
       "    </tr>\n",
       "    <tr>\n",
       "      <th>1</th>\n",
       "      <td>3.0</td>\n",
       "      <td>13760.0</td>\n",
       "      <td>6880.0</td>\n",
       "      <td>295936.0</td>\n",
       "      <td>0.0</td>\n",
       "      <td>0.999813</td>\n",
       "      <td>0.0</td>\n",
       "      <td>1.000000</td>\n",
       "      <td>0.500093</td>\n",
       "    </tr>\n",
       "    <tr>\n",
       "      <th>2</th>\n",
       "      <td>10.0</td>\n",
       "      <td>37840.0</td>\n",
       "      <td>18920.0</td>\n",
       "      <td>295936.0</td>\n",
       "      <td>0.0</td>\n",
       "      <td>0.465021</td>\n",
       "      <td>0.0</td>\n",
       "      <td>0.442699</td>\n",
       "      <td>0.488839</td>\n",
       "    </tr>\n",
       "    <tr>\n",
       "      <th>3</th>\n",
       "      <td>171.0</td>\n",
       "      <td>591680.0</td>\n",
       "      <td>295840.0</td>\n",
       "      <td>295936.0</td>\n",
       "      <td>0.0</td>\n",
       "      <td>1.000000</td>\n",
       "      <td>0.0</td>\n",
       "      <td>1.000000</td>\n",
       "      <td>0.500000</td>\n",
       "    </tr>\n",
       "  </tbody>\n",
       "</table>\n",
       "</div>"
      ],
      "text/plain": [
       "   pn_ratio  train_num   val_num  test_num  fpr0      fpr1  tpr0      tpr1  \\\n",
       "0       1.0     6880.0    3440.0  295936.0   0.0  1.000000   0.0  1.000000   \n",
       "1       3.0    13760.0    6880.0  295936.0   0.0  0.999813   0.0  1.000000   \n",
       "2      10.0    37840.0   18920.0  295936.0   0.0  0.465021   0.0  0.442699   \n",
       "3     171.0   591680.0  295840.0  295936.0   0.0  1.000000   0.0  1.000000   \n",
       "\n",
       "        auc  \n",
       "0  0.500000  \n",
       "1  0.500093  \n",
       "2  0.488839  \n",
       "3  0.500000  "
      ]
     },
     "execution_count": 41,
     "metadata": {},
     "output_type": "execute_result"
    }
   ],
   "source": [
    "res"
   ]
  },
  {
   "cell_type": "code",
   "execution_count": 87,
   "metadata": {
    "collapsed": false,
    "scrolled": true
   },
   "outputs": [
    {
     "data": {
      "text/plain": [
       "array([ 0.00580869,  0.234375  ,  1.        ])"
      ]
     },
     "execution_count": 87,
     "metadata": {},
     "output_type": "execute_result"
    }
   ],
   "source": [
    "#prec, rec, thres = metrics.precision_recall_curve(y_true, y_pred)\n",
    "prec, rec, thres"
   ]
  },
  {
   "cell_type": "code",
   "execution_count": null,
   "metadata": {
    "collapsed": true
   },
   "outputs": [],
   "source": [
    "### Test : <0.1 missing rate features 104\n",
    "\n",
    "\n"
   ]
  }
 ],
 "metadata": {
  "anaconda-cloud": {},
  "kernelspec": {
   "display_name": "Python [default]",
   "language": "python",
   "name": "python3"
  },
  "language_info": {
   "codemirror_mode": {
    "name": "ipython",
    "version": 3
   },
   "file_extension": ".py",
   "mimetype": "text/x-python",
   "name": "python",
   "nbconvert_exporter": "python",
   "pygments_lexer": "ipython3",
   "version": "3.5.2"
  }
 },
 "nbformat": 4,
 "nbformat_minor": 0
}
